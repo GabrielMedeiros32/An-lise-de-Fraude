{
  "nbformat": 4,
  "nbformat_minor": 0,
  "metadata": {
    "colab": {
      "name": "AnáliseFraude.ipynb",
      "provenance": [],
      "toc_visible": true,
      "authorship_tag": "ABX9TyO1AxEzk0UXj3bBl7v1u03C",
      "include_colab_link": true
    },
    "kernelspec": {
      "name": "python3",
      "display_name": "Python 3"
    },
    "language_info": {
      "name": "python"
    }
  },
  "cells": [
    {
      "cell_type": "markdown",
      "metadata": {
        "id": "view-in-github",
        "colab_type": "text"
      },
      "source": [
        "<a href=\"https://colab.research.google.com/github/GabrielMedeiros32/An-lise-de-Fraude/blob/main/An%C3%A1liseFraude.ipynb\" target=\"_parent\"><img src=\"https://colab.research.google.com/assets/colab-badge.svg\" alt=\"Open In Colab\"/></a>"
      ]
    },
    {
      "cell_type": "markdown",
      "metadata": {
        "id": "sD7eMRKRsCj_"
      },
      "source": [
        "#**Aplicações de Métricas a modelos de detecção de Fraudes**"
      ]
    },
    {
      "cell_type": "markdown",
      "metadata": {
        "id": "WawCShda-ADs"
      },
      "source": [
        "##**Análise Preliminar dos dados**"
      ]
    },
    {
      "cell_type": "code",
      "metadata": {
        "id": "nzpYV_ffsIZM"
      },
      "source": [
        "import numpy as np\n",
        "import pandas as pd\n",
        "import seaborn as sns\n",
        "import matplotlib.pyplot as plt\n",
        "from sklearn.dummy import DummyClassifier\n",
        "from sklearn.model_selection import train_test_split\n",
        "from sklearn.model_selection import GridSearchCV\n",
        "from sklearn.ensemble import RandomForestClassifier\n",
        "from sklearn.metrics import accuracy_score\n",
        "from sklearn.metrics import recall_score\n",
        "from sklearn.metrics import precision_score\n",
        "from sklearn.metrics import plot_confusion_matrix\n",
        "from sklearn.metrics import plot_precision_recall_curve\n",
        "from sklearn.metrics import precision_recall_curve\n",
        "from sklearn.metrics import f1_score\n",
        "from sklearn.metrics import confusion_matrix"
      ],
      "execution_count": 206,
      "outputs": []
    },
    {
      "cell_type": "code",
      "metadata": {
        "id": "b2row4Sb3_tt"
      },
      "source": [
        "np.random.seed(73415)"
      ],
      "execution_count": 207,
      "outputs": []
    },
    {
      "cell_type": "code",
      "metadata": {
        "id": "xvzV7e25-LFi"
      },
      "source": [
        "df = pd.read_csv(\"/content/creditcard.csv\")"
      ],
      "execution_count": 208,
      "outputs": []
    },
    {
      "cell_type": "code",
      "metadata": {
        "colab": {
          "base_uri": "https://localhost:8080/",
          "height": 439
        },
        "id": "DrG-yuMh-xfE",
        "outputId": "09771bae-969a-4e65-ef68-9c8b68e6d5f7"
      },
      "source": [
        "df"
      ],
      "execution_count": 209,
      "outputs": [
        {
          "output_type": "execute_result",
          "data": {
            "text/html": [
              "<div>\n",
              "<style scoped>\n",
              "    .dataframe tbody tr th:only-of-type {\n",
              "        vertical-align: middle;\n",
              "    }\n",
              "\n",
              "    .dataframe tbody tr th {\n",
              "        vertical-align: top;\n",
              "    }\n",
              "\n",
              "    .dataframe thead th {\n",
              "        text-align: right;\n",
              "    }\n",
              "</style>\n",
              "<table border=\"1\" class=\"dataframe\">\n",
              "  <thead>\n",
              "    <tr style=\"text-align: right;\">\n",
              "      <th></th>\n",
              "      <th>Time</th>\n",
              "      <th>V1</th>\n",
              "      <th>V2</th>\n",
              "      <th>V3</th>\n",
              "      <th>V4</th>\n",
              "      <th>V5</th>\n",
              "      <th>V6</th>\n",
              "      <th>V7</th>\n",
              "      <th>V8</th>\n",
              "      <th>V9</th>\n",
              "      <th>V10</th>\n",
              "      <th>V11</th>\n",
              "      <th>V12</th>\n",
              "      <th>V13</th>\n",
              "      <th>V14</th>\n",
              "      <th>V15</th>\n",
              "      <th>V16</th>\n",
              "      <th>V17</th>\n",
              "      <th>V18</th>\n",
              "      <th>V19</th>\n",
              "      <th>V20</th>\n",
              "      <th>V21</th>\n",
              "      <th>V22</th>\n",
              "      <th>V23</th>\n",
              "      <th>V24</th>\n",
              "      <th>V25</th>\n",
              "      <th>V26</th>\n",
              "      <th>V27</th>\n",
              "      <th>V28</th>\n",
              "      <th>Amount</th>\n",
              "      <th>Class</th>\n",
              "    </tr>\n",
              "  </thead>\n",
              "  <tbody>\n",
              "    <tr>\n",
              "      <th>0</th>\n",
              "      <td>0.0</td>\n",
              "      <td>-1.359807</td>\n",
              "      <td>-0.072781</td>\n",
              "      <td>2.536347</td>\n",
              "      <td>1.378155</td>\n",
              "      <td>-0.338321</td>\n",
              "      <td>0.462388</td>\n",
              "      <td>0.239599</td>\n",
              "      <td>0.098698</td>\n",
              "      <td>0.363787</td>\n",
              "      <td>0.090794</td>\n",
              "      <td>-0.551600</td>\n",
              "      <td>-0.617801</td>\n",
              "      <td>-0.991390</td>\n",
              "      <td>-0.311169</td>\n",
              "      <td>1.468177</td>\n",
              "      <td>-0.470401</td>\n",
              "      <td>0.207971</td>\n",
              "      <td>0.025791</td>\n",
              "      <td>0.403993</td>\n",
              "      <td>0.251412</td>\n",
              "      <td>-0.018307</td>\n",
              "      <td>0.277838</td>\n",
              "      <td>-0.110474</td>\n",
              "      <td>0.066928</td>\n",
              "      <td>0.128539</td>\n",
              "      <td>-0.189115</td>\n",
              "      <td>0.133558</td>\n",
              "      <td>-0.021053</td>\n",
              "      <td>149.62</td>\n",
              "      <td>0</td>\n",
              "    </tr>\n",
              "    <tr>\n",
              "      <th>1</th>\n",
              "      <td>0.0</td>\n",
              "      <td>1.191857</td>\n",
              "      <td>0.266151</td>\n",
              "      <td>0.166480</td>\n",
              "      <td>0.448154</td>\n",
              "      <td>0.060018</td>\n",
              "      <td>-0.082361</td>\n",
              "      <td>-0.078803</td>\n",
              "      <td>0.085102</td>\n",
              "      <td>-0.255425</td>\n",
              "      <td>-0.166974</td>\n",
              "      <td>1.612727</td>\n",
              "      <td>1.065235</td>\n",
              "      <td>0.489095</td>\n",
              "      <td>-0.143772</td>\n",
              "      <td>0.635558</td>\n",
              "      <td>0.463917</td>\n",
              "      <td>-0.114805</td>\n",
              "      <td>-0.183361</td>\n",
              "      <td>-0.145783</td>\n",
              "      <td>-0.069083</td>\n",
              "      <td>-0.225775</td>\n",
              "      <td>-0.638672</td>\n",
              "      <td>0.101288</td>\n",
              "      <td>-0.339846</td>\n",
              "      <td>0.167170</td>\n",
              "      <td>0.125895</td>\n",
              "      <td>-0.008983</td>\n",
              "      <td>0.014724</td>\n",
              "      <td>2.69</td>\n",
              "      <td>0</td>\n",
              "    </tr>\n",
              "    <tr>\n",
              "      <th>2</th>\n",
              "      <td>1.0</td>\n",
              "      <td>-1.358354</td>\n",
              "      <td>-1.340163</td>\n",
              "      <td>1.773209</td>\n",
              "      <td>0.379780</td>\n",
              "      <td>-0.503198</td>\n",
              "      <td>1.800499</td>\n",
              "      <td>0.791461</td>\n",
              "      <td>0.247676</td>\n",
              "      <td>-1.514654</td>\n",
              "      <td>0.207643</td>\n",
              "      <td>0.624501</td>\n",
              "      <td>0.066084</td>\n",
              "      <td>0.717293</td>\n",
              "      <td>-0.165946</td>\n",
              "      <td>2.345865</td>\n",
              "      <td>-2.890083</td>\n",
              "      <td>1.109969</td>\n",
              "      <td>-0.121359</td>\n",
              "      <td>-2.261857</td>\n",
              "      <td>0.524980</td>\n",
              "      <td>0.247998</td>\n",
              "      <td>0.771679</td>\n",
              "      <td>0.909412</td>\n",
              "      <td>-0.689281</td>\n",
              "      <td>-0.327642</td>\n",
              "      <td>-0.139097</td>\n",
              "      <td>-0.055353</td>\n",
              "      <td>-0.059752</td>\n",
              "      <td>378.66</td>\n",
              "      <td>0</td>\n",
              "    </tr>\n",
              "    <tr>\n",
              "      <th>3</th>\n",
              "      <td>1.0</td>\n",
              "      <td>-0.966272</td>\n",
              "      <td>-0.185226</td>\n",
              "      <td>1.792993</td>\n",
              "      <td>-0.863291</td>\n",
              "      <td>-0.010309</td>\n",
              "      <td>1.247203</td>\n",
              "      <td>0.237609</td>\n",
              "      <td>0.377436</td>\n",
              "      <td>-1.387024</td>\n",
              "      <td>-0.054952</td>\n",
              "      <td>-0.226487</td>\n",
              "      <td>0.178228</td>\n",
              "      <td>0.507757</td>\n",
              "      <td>-0.287924</td>\n",
              "      <td>-0.631418</td>\n",
              "      <td>-1.059647</td>\n",
              "      <td>-0.684093</td>\n",
              "      <td>1.965775</td>\n",
              "      <td>-1.232622</td>\n",
              "      <td>-0.208038</td>\n",
              "      <td>-0.108300</td>\n",
              "      <td>0.005274</td>\n",
              "      <td>-0.190321</td>\n",
              "      <td>-1.175575</td>\n",
              "      <td>0.647376</td>\n",
              "      <td>-0.221929</td>\n",
              "      <td>0.062723</td>\n",
              "      <td>0.061458</td>\n",
              "      <td>123.50</td>\n",
              "      <td>0</td>\n",
              "    </tr>\n",
              "    <tr>\n",
              "      <th>4</th>\n",
              "      <td>2.0</td>\n",
              "      <td>-1.158233</td>\n",
              "      <td>0.877737</td>\n",
              "      <td>1.548718</td>\n",
              "      <td>0.403034</td>\n",
              "      <td>-0.407193</td>\n",
              "      <td>0.095921</td>\n",
              "      <td>0.592941</td>\n",
              "      <td>-0.270533</td>\n",
              "      <td>0.817739</td>\n",
              "      <td>0.753074</td>\n",
              "      <td>-0.822843</td>\n",
              "      <td>0.538196</td>\n",
              "      <td>1.345852</td>\n",
              "      <td>-1.119670</td>\n",
              "      <td>0.175121</td>\n",
              "      <td>-0.451449</td>\n",
              "      <td>-0.237033</td>\n",
              "      <td>-0.038195</td>\n",
              "      <td>0.803487</td>\n",
              "      <td>0.408542</td>\n",
              "      <td>-0.009431</td>\n",
              "      <td>0.798278</td>\n",
              "      <td>-0.137458</td>\n",
              "      <td>0.141267</td>\n",
              "      <td>-0.206010</td>\n",
              "      <td>0.502292</td>\n",
              "      <td>0.219422</td>\n",
              "      <td>0.215153</td>\n",
              "      <td>69.99</td>\n",
              "      <td>0</td>\n",
              "    </tr>\n",
              "    <tr>\n",
              "      <th>...</th>\n",
              "      <td>...</td>\n",
              "      <td>...</td>\n",
              "      <td>...</td>\n",
              "      <td>...</td>\n",
              "      <td>...</td>\n",
              "      <td>...</td>\n",
              "      <td>...</td>\n",
              "      <td>...</td>\n",
              "      <td>...</td>\n",
              "      <td>...</td>\n",
              "      <td>...</td>\n",
              "      <td>...</td>\n",
              "      <td>...</td>\n",
              "      <td>...</td>\n",
              "      <td>...</td>\n",
              "      <td>...</td>\n",
              "      <td>...</td>\n",
              "      <td>...</td>\n",
              "      <td>...</td>\n",
              "      <td>...</td>\n",
              "      <td>...</td>\n",
              "      <td>...</td>\n",
              "      <td>...</td>\n",
              "      <td>...</td>\n",
              "      <td>...</td>\n",
              "      <td>...</td>\n",
              "      <td>...</td>\n",
              "      <td>...</td>\n",
              "      <td>...</td>\n",
              "      <td>...</td>\n",
              "      <td>...</td>\n",
              "    </tr>\n",
              "    <tr>\n",
              "      <th>284802</th>\n",
              "      <td>172786.0</td>\n",
              "      <td>-11.881118</td>\n",
              "      <td>10.071785</td>\n",
              "      <td>-9.834783</td>\n",
              "      <td>-2.066656</td>\n",
              "      <td>-5.364473</td>\n",
              "      <td>-2.606837</td>\n",
              "      <td>-4.918215</td>\n",
              "      <td>7.305334</td>\n",
              "      <td>1.914428</td>\n",
              "      <td>4.356170</td>\n",
              "      <td>-1.593105</td>\n",
              "      <td>2.711941</td>\n",
              "      <td>-0.689256</td>\n",
              "      <td>4.626942</td>\n",
              "      <td>-0.924459</td>\n",
              "      <td>1.107641</td>\n",
              "      <td>1.991691</td>\n",
              "      <td>0.510632</td>\n",
              "      <td>-0.682920</td>\n",
              "      <td>1.475829</td>\n",
              "      <td>0.213454</td>\n",
              "      <td>0.111864</td>\n",
              "      <td>1.014480</td>\n",
              "      <td>-0.509348</td>\n",
              "      <td>1.436807</td>\n",
              "      <td>0.250034</td>\n",
              "      <td>0.943651</td>\n",
              "      <td>0.823731</td>\n",
              "      <td>0.77</td>\n",
              "      <td>0</td>\n",
              "    </tr>\n",
              "    <tr>\n",
              "      <th>284803</th>\n",
              "      <td>172787.0</td>\n",
              "      <td>-0.732789</td>\n",
              "      <td>-0.055080</td>\n",
              "      <td>2.035030</td>\n",
              "      <td>-0.738589</td>\n",
              "      <td>0.868229</td>\n",
              "      <td>1.058415</td>\n",
              "      <td>0.024330</td>\n",
              "      <td>0.294869</td>\n",
              "      <td>0.584800</td>\n",
              "      <td>-0.975926</td>\n",
              "      <td>-0.150189</td>\n",
              "      <td>0.915802</td>\n",
              "      <td>1.214756</td>\n",
              "      <td>-0.675143</td>\n",
              "      <td>1.164931</td>\n",
              "      <td>-0.711757</td>\n",
              "      <td>-0.025693</td>\n",
              "      <td>-1.221179</td>\n",
              "      <td>-1.545556</td>\n",
              "      <td>0.059616</td>\n",
              "      <td>0.214205</td>\n",
              "      <td>0.924384</td>\n",
              "      <td>0.012463</td>\n",
              "      <td>-1.016226</td>\n",
              "      <td>-0.606624</td>\n",
              "      <td>-0.395255</td>\n",
              "      <td>0.068472</td>\n",
              "      <td>-0.053527</td>\n",
              "      <td>24.79</td>\n",
              "      <td>0</td>\n",
              "    </tr>\n",
              "    <tr>\n",
              "      <th>284804</th>\n",
              "      <td>172788.0</td>\n",
              "      <td>1.919565</td>\n",
              "      <td>-0.301254</td>\n",
              "      <td>-3.249640</td>\n",
              "      <td>-0.557828</td>\n",
              "      <td>2.630515</td>\n",
              "      <td>3.031260</td>\n",
              "      <td>-0.296827</td>\n",
              "      <td>0.708417</td>\n",
              "      <td>0.432454</td>\n",
              "      <td>-0.484782</td>\n",
              "      <td>0.411614</td>\n",
              "      <td>0.063119</td>\n",
              "      <td>-0.183699</td>\n",
              "      <td>-0.510602</td>\n",
              "      <td>1.329284</td>\n",
              "      <td>0.140716</td>\n",
              "      <td>0.313502</td>\n",
              "      <td>0.395652</td>\n",
              "      <td>-0.577252</td>\n",
              "      <td>0.001396</td>\n",
              "      <td>0.232045</td>\n",
              "      <td>0.578229</td>\n",
              "      <td>-0.037501</td>\n",
              "      <td>0.640134</td>\n",
              "      <td>0.265745</td>\n",
              "      <td>-0.087371</td>\n",
              "      <td>0.004455</td>\n",
              "      <td>-0.026561</td>\n",
              "      <td>67.88</td>\n",
              "      <td>0</td>\n",
              "    </tr>\n",
              "    <tr>\n",
              "      <th>284805</th>\n",
              "      <td>172788.0</td>\n",
              "      <td>-0.240440</td>\n",
              "      <td>0.530483</td>\n",
              "      <td>0.702510</td>\n",
              "      <td>0.689799</td>\n",
              "      <td>-0.377961</td>\n",
              "      <td>0.623708</td>\n",
              "      <td>-0.686180</td>\n",
              "      <td>0.679145</td>\n",
              "      <td>0.392087</td>\n",
              "      <td>-0.399126</td>\n",
              "      <td>-1.933849</td>\n",
              "      <td>-0.962886</td>\n",
              "      <td>-1.042082</td>\n",
              "      <td>0.449624</td>\n",
              "      <td>1.962563</td>\n",
              "      <td>-0.608577</td>\n",
              "      <td>0.509928</td>\n",
              "      <td>1.113981</td>\n",
              "      <td>2.897849</td>\n",
              "      <td>0.127434</td>\n",
              "      <td>0.265245</td>\n",
              "      <td>0.800049</td>\n",
              "      <td>-0.163298</td>\n",
              "      <td>0.123205</td>\n",
              "      <td>-0.569159</td>\n",
              "      <td>0.546668</td>\n",
              "      <td>0.108821</td>\n",
              "      <td>0.104533</td>\n",
              "      <td>10.00</td>\n",
              "      <td>0</td>\n",
              "    </tr>\n",
              "    <tr>\n",
              "      <th>284806</th>\n",
              "      <td>172792.0</td>\n",
              "      <td>-0.533413</td>\n",
              "      <td>-0.189733</td>\n",
              "      <td>0.703337</td>\n",
              "      <td>-0.506271</td>\n",
              "      <td>-0.012546</td>\n",
              "      <td>-0.649617</td>\n",
              "      <td>1.577006</td>\n",
              "      <td>-0.414650</td>\n",
              "      <td>0.486180</td>\n",
              "      <td>-0.915427</td>\n",
              "      <td>-1.040458</td>\n",
              "      <td>-0.031513</td>\n",
              "      <td>-0.188093</td>\n",
              "      <td>-0.084316</td>\n",
              "      <td>0.041333</td>\n",
              "      <td>-0.302620</td>\n",
              "      <td>-0.660377</td>\n",
              "      <td>0.167430</td>\n",
              "      <td>-0.256117</td>\n",
              "      <td>0.382948</td>\n",
              "      <td>0.261057</td>\n",
              "      <td>0.643078</td>\n",
              "      <td>0.376777</td>\n",
              "      <td>0.008797</td>\n",
              "      <td>-0.473649</td>\n",
              "      <td>-0.818267</td>\n",
              "      <td>-0.002415</td>\n",
              "      <td>0.013649</td>\n",
              "      <td>217.00</td>\n",
              "      <td>0</td>\n",
              "    </tr>\n",
              "  </tbody>\n",
              "</table>\n",
              "<p>284807 rows × 31 columns</p>\n",
              "</div>"
            ],
            "text/plain": [
              "            Time         V1         V2  ...       V28  Amount  Class\n",
              "0            0.0  -1.359807  -0.072781  ... -0.021053  149.62      0\n",
              "1            0.0   1.191857   0.266151  ...  0.014724    2.69      0\n",
              "2            1.0  -1.358354  -1.340163  ... -0.059752  378.66      0\n",
              "3            1.0  -0.966272  -0.185226  ...  0.061458  123.50      0\n",
              "4            2.0  -1.158233   0.877737  ...  0.215153   69.99      0\n",
              "...          ...        ...        ...  ...       ...     ...    ...\n",
              "284802  172786.0 -11.881118  10.071785  ...  0.823731    0.77      0\n",
              "284803  172787.0  -0.732789  -0.055080  ... -0.053527   24.79      0\n",
              "284804  172788.0   1.919565  -0.301254  ... -0.026561   67.88      0\n",
              "284805  172788.0  -0.240440   0.530483  ...  0.104533   10.00      0\n",
              "284806  172792.0  -0.533413  -0.189733  ...  0.013649  217.00      0\n",
              "\n",
              "[284807 rows x 31 columns]"
            ]
          },
          "metadata": {
            "tags": []
          },
          "execution_count": 209
        }
      ]
    },
    {
      "cell_type": "markdown",
      "metadata": {
        "id": "ZPzfNPT0_fOd"
      },
      "source": [
        "Após importarmos os dados, podemos ver que temos apenas as variáveis \"Time\", \"Amount\", e 28 outras categorias de V1 à V28. Mas porque disso? do que se tratam essa categorias?"
      ]
    },
    {
      "cell_type": "markdown",
      "metadata": {
        "id": "q9NmaM_vAAfj"
      },
      "source": [
        "Como especificado pelos craidores da competição no Kaggle esses dados estão passados por um transformação PCA afim de tornar esses dados anônimos, além do mais se tratam de parâmetros bancários e de pagamento de pessoas reais e que devem ter a segurança dos seus dados assegurada."
      ]
    },
    {
      "cell_type": "markdown",
      "metadata": {
        "id": "3t5VCX-MDjZv"
      },
      "source": [
        "Mas o que seriam esses 28 tipos de dados então? Claro que não se pode saber, mas normalmente para casos de detecção de fraude se tratam de dados como quantas compras foram recusadas, quantos cartões diferentes são usados, quão nova é a conta ou o cliente, qual a proporção entre os tipos de pagamentos desse cliente (Ex: 50% Cartão, 25% Boleto, 25% à vista), qual a média dos gastos nas compras/contratações. Logo, é seguro presumir que esses dados contém diferentes aspectos de uma possível fraude representados neles."
      ]
    },
    {
      "cell_type": "markdown",
      "metadata": {
        "id": "Y995w9zelWtr"
      },
      "source": [
        "Nesse caso, como não tenho nenhuma informação sobre as categorias, mas só seus valores após a transformação, tenho que assumir que todos os valores são relevantes para a análise, logo há pouca limpeza à ser feita."
      ]
    },
    {
      "cell_type": "code",
      "metadata": {
        "colab": {
          "base_uri": "https://localhost:8080/"
        },
        "id": "2x3VqcO7ondw",
        "outputId": "2dc7a732-e75d-448d-8223-d0e4b9f1b243"
      },
      "source": [
        "df.isna().sum().sum()"
      ],
      "execution_count": 210,
      "outputs": [
        {
          "output_type": "execute_result",
          "data": {
            "text/plain": [
              "0"
            ]
          },
          "metadata": {
            "tags": []
          },
          "execution_count": 210
        }
      ]
    },
    {
      "cell_type": "code",
      "metadata": {
        "id": "S5xWWVBdowSA"
      },
      "source": [
        "df.dropna(inplace=True) "
      ],
      "execution_count": 211,
      "outputs": []
    },
    {
      "cell_type": "markdown",
      "metadata": {
        "id": "GXCOLSn2pBgu"
      },
      "source": [
        "Apenas alguns NaN que foram apenas retirados."
      ]
    },
    {
      "cell_type": "code",
      "metadata": {
        "colab": {
          "base_uri": "https://localhost:8080/",
          "height": 1000
        },
        "id": "ZeIZeenYnIkw",
        "outputId": "a1cb4068-1c36-41f8-e967-f36a07a831d2"
      },
      "source": [
        "df.corr()"
      ],
      "execution_count": 212,
      "outputs": [
        {
          "output_type": "execute_result",
          "data": {
            "text/html": [
              "<div>\n",
              "<style scoped>\n",
              "    .dataframe tbody tr th:only-of-type {\n",
              "        vertical-align: middle;\n",
              "    }\n",
              "\n",
              "    .dataframe tbody tr th {\n",
              "        vertical-align: top;\n",
              "    }\n",
              "\n",
              "    .dataframe thead th {\n",
              "        text-align: right;\n",
              "    }\n",
              "</style>\n",
              "<table border=\"1\" class=\"dataframe\">\n",
              "  <thead>\n",
              "    <tr style=\"text-align: right;\">\n",
              "      <th></th>\n",
              "      <th>Time</th>\n",
              "      <th>V1</th>\n",
              "      <th>V2</th>\n",
              "      <th>V3</th>\n",
              "      <th>V4</th>\n",
              "      <th>V5</th>\n",
              "      <th>V6</th>\n",
              "      <th>V7</th>\n",
              "      <th>V8</th>\n",
              "      <th>V9</th>\n",
              "      <th>V10</th>\n",
              "      <th>V11</th>\n",
              "      <th>V12</th>\n",
              "      <th>V13</th>\n",
              "      <th>V14</th>\n",
              "      <th>V15</th>\n",
              "      <th>V16</th>\n",
              "      <th>V17</th>\n",
              "      <th>V18</th>\n",
              "      <th>V19</th>\n",
              "      <th>V20</th>\n",
              "      <th>V21</th>\n",
              "      <th>V22</th>\n",
              "      <th>V23</th>\n",
              "      <th>V24</th>\n",
              "      <th>V25</th>\n",
              "      <th>V26</th>\n",
              "      <th>V27</th>\n",
              "      <th>V28</th>\n",
              "      <th>Amount</th>\n",
              "      <th>Class</th>\n",
              "    </tr>\n",
              "  </thead>\n",
              "  <tbody>\n",
              "    <tr>\n",
              "      <th>Time</th>\n",
              "      <td>1.000000</td>\n",
              "      <td>1.173963e-01</td>\n",
              "      <td>-1.059333e-02</td>\n",
              "      <td>-4.196182e-01</td>\n",
              "      <td>-1.052602e-01</td>\n",
              "      <td>1.730721e-01</td>\n",
              "      <td>-6.301647e-02</td>\n",
              "      <td>8.471437e-02</td>\n",
              "      <td>-3.694943e-02</td>\n",
              "      <td>-8.660434e-03</td>\n",
              "      <td>3.061663e-02</td>\n",
              "      <td>-2.476894e-01</td>\n",
              "      <td>1.243481e-01</td>\n",
              "      <td>-6.590202e-02</td>\n",
              "      <td>-9.875682e-02</td>\n",
              "      <td>-1.834533e-01</td>\n",
              "      <td>1.190287e-02</td>\n",
              "      <td>-7.329721e-02</td>\n",
              "      <td>9.043813e-02</td>\n",
              "      <td>2.897530e-02</td>\n",
              "      <td>-5.086602e-02</td>\n",
              "      <td>4.473573e-02</td>\n",
              "      <td>1.440591e-01</td>\n",
              "      <td>5.114236e-02</td>\n",
              "      <td>-1.618187e-02</td>\n",
              "      <td>-2.330828e-01</td>\n",
              "      <td>-4.140710e-02</td>\n",
              "      <td>-5.134591e-03</td>\n",
              "      <td>-9.412688e-03</td>\n",
              "      <td>-0.010596</td>\n",
              "      <td>-0.012323</td>\n",
              "    </tr>\n",
              "    <tr>\n",
              "      <th>V1</th>\n",
              "      <td>0.117396</td>\n",
              "      <td>1.000000e+00</td>\n",
              "      <td>4.697350e-17</td>\n",
              "      <td>-1.424390e-15</td>\n",
              "      <td>1.755316e-17</td>\n",
              "      <td>6.391162e-17</td>\n",
              "      <td>2.398071e-16</td>\n",
              "      <td>1.991550e-15</td>\n",
              "      <td>-9.490675e-17</td>\n",
              "      <td>2.169581e-16</td>\n",
              "      <td>7.433820e-17</td>\n",
              "      <td>2.438580e-16</td>\n",
              "      <td>2.422086e-16</td>\n",
              "      <td>-2.115458e-16</td>\n",
              "      <td>9.352582e-16</td>\n",
              "      <td>-3.252451e-16</td>\n",
              "      <td>6.308789e-16</td>\n",
              "      <td>-5.011524e-16</td>\n",
              "      <td>2.870125e-16</td>\n",
              "      <td>1.818128e-16</td>\n",
              "      <td>1.036959e-16</td>\n",
              "      <td>-1.755072e-16</td>\n",
              "      <td>7.477367e-17</td>\n",
              "      <td>9.808705e-16</td>\n",
              "      <td>7.354269e-17</td>\n",
              "      <td>-9.805358e-16</td>\n",
              "      <td>-8.621897e-17</td>\n",
              "      <td>3.208233e-17</td>\n",
              "      <td>9.820892e-16</td>\n",
              "      <td>-0.227709</td>\n",
              "      <td>-0.101347</td>\n",
              "    </tr>\n",
              "    <tr>\n",
              "      <th>V2</th>\n",
              "      <td>-0.010593</td>\n",
              "      <td>4.697350e-17</td>\n",
              "      <td>1.000000e+00</td>\n",
              "      <td>2.512175e-16</td>\n",
              "      <td>-1.126388e-16</td>\n",
              "      <td>-2.039868e-16</td>\n",
              "      <td>5.024680e-16</td>\n",
              "      <td>3.966486e-16</td>\n",
              "      <td>-4.413984e-17</td>\n",
              "      <td>-5.728718e-17</td>\n",
              "      <td>-4.782388e-16</td>\n",
              "      <td>9.468995e-16</td>\n",
              "      <td>-6.588252e-16</td>\n",
              "      <td>3.854521e-16</td>\n",
              "      <td>-2.541036e-16</td>\n",
              "      <td>2.831060e-16</td>\n",
              "      <td>4.934097e-17</td>\n",
              "      <td>-9.883008e-16</td>\n",
              "      <td>2.636654e-16</td>\n",
              "      <td>9.528280e-17</td>\n",
              "      <td>-9.309954e-16</td>\n",
              "      <td>8.444409e-17</td>\n",
              "      <td>2.500830e-16</td>\n",
              "      <td>1.059562e-16</td>\n",
              "      <td>-8.142354e-18</td>\n",
              "      <td>-4.261894e-17</td>\n",
              "      <td>2.601622e-16</td>\n",
              "      <td>-4.478472e-16</td>\n",
              "      <td>-3.676415e-16</td>\n",
              "      <td>-0.531409</td>\n",
              "      <td>0.091289</td>\n",
              "    </tr>\n",
              "    <tr>\n",
              "      <th>V3</th>\n",
              "      <td>-0.419618</td>\n",
              "      <td>-1.424390e-15</td>\n",
              "      <td>2.512175e-16</td>\n",
              "      <td>1.000000e+00</td>\n",
              "      <td>-3.416910e-16</td>\n",
              "      <td>-1.436514e-15</td>\n",
              "      <td>1.431581e-15</td>\n",
              "      <td>2.168574e-15</td>\n",
              "      <td>3.433113e-16</td>\n",
              "      <td>-4.233770e-16</td>\n",
              "      <td>6.289267e-16</td>\n",
              "      <td>-5.501758e-17</td>\n",
              "      <td>2.206522e-16</td>\n",
              "      <td>-6.883375e-16</td>\n",
              "      <td>4.271336e-16</td>\n",
              "      <td>1.122756e-16</td>\n",
              "      <td>1.183364e-15</td>\n",
              "      <td>4.576619e-17</td>\n",
              "      <td>5.427965e-16</td>\n",
              "      <td>2.576773e-16</td>\n",
              "      <td>-9.429297e-16</td>\n",
              "      <td>-2.971969e-17</td>\n",
              "      <td>4.648259e-16</td>\n",
              "      <td>2.115206e-17</td>\n",
              "      <td>-9.351637e-17</td>\n",
              "      <td>4.771164e-16</td>\n",
              "      <td>6.521501e-16</td>\n",
              "      <td>6.239832e-16</td>\n",
              "      <td>7.726948e-16</td>\n",
              "      <td>-0.210880</td>\n",
              "      <td>-0.192961</td>\n",
              "    </tr>\n",
              "    <tr>\n",
              "      <th>V4</th>\n",
              "      <td>-0.105260</td>\n",
              "      <td>1.755316e-17</td>\n",
              "      <td>-1.126388e-16</td>\n",
              "      <td>-3.416910e-16</td>\n",
              "      <td>1.000000e+00</td>\n",
              "      <td>-1.940929e-15</td>\n",
              "      <td>-2.712659e-16</td>\n",
              "      <td>1.556330e-16</td>\n",
              "      <td>5.195643e-16</td>\n",
              "      <td>3.859585e-16</td>\n",
              "      <td>6.055490e-16</td>\n",
              "      <td>-2.083600e-16</td>\n",
              "      <td>-5.657963e-16</td>\n",
              "      <td>-1.506129e-16</td>\n",
              "      <td>-8.522435e-17</td>\n",
              "      <td>-1.507718e-16</td>\n",
              "      <td>-6.939204e-16</td>\n",
              "      <td>-4.397925e-16</td>\n",
              "      <td>1.493667e-16</td>\n",
              "      <td>-2.656938e-16</td>\n",
              "      <td>-3.223123e-16</td>\n",
              "      <td>-9.976950e-17</td>\n",
              "      <td>2.099922e-16</td>\n",
              "      <td>6.002528e-17</td>\n",
              "      <td>2.229738e-16</td>\n",
              "      <td>5.394585e-16</td>\n",
              "      <td>-6.179751e-16</td>\n",
              "      <td>-6.403423e-17</td>\n",
              "      <td>-5.863664e-17</td>\n",
              "      <td>0.098732</td>\n",
              "      <td>0.133447</td>\n",
              "    </tr>\n",
              "    <tr>\n",
              "      <th>V5</th>\n",
              "      <td>0.173072</td>\n",
              "      <td>6.391162e-17</td>\n",
              "      <td>-2.039868e-16</td>\n",
              "      <td>-1.436514e-15</td>\n",
              "      <td>-1.940929e-15</td>\n",
              "      <td>1.000000e+00</td>\n",
              "      <td>7.926364e-16</td>\n",
              "      <td>-4.209851e-16</td>\n",
              "      <td>7.589187e-16</td>\n",
              "      <td>4.205206e-16</td>\n",
              "      <td>-6.601716e-16</td>\n",
              "      <td>7.342759e-16</td>\n",
              "      <td>3.761033e-16</td>\n",
              "      <td>-9.578659e-16</td>\n",
              "      <td>-3.634803e-16</td>\n",
              "      <td>-5.132620e-16</td>\n",
              "      <td>-3.517076e-16</td>\n",
              "      <td>1.425729e-16</td>\n",
              "      <td>1.109525e-15</td>\n",
              "      <td>-3.138234e-16</td>\n",
              "      <td>2.076048e-16</td>\n",
              "      <td>-1.368701e-16</td>\n",
              "      <td>5.060029e-16</td>\n",
              "      <td>1.637596e-16</td>\n",
              "      <td>-9.286095e-16</td>\n",
              "      <td>5.625102e-16</td>\n",
              "      <td>9.144690e-16</td>\n",
              "      <td>4.465960e-16</td>\n",
              "      <td>-3.299167e-16</td>\n",
              "      <td>-0.386356</td>\n",
              "      <td>-0.094974</td>\n",
              "    </tr>\n",
              "    <tr>\n",
              "      <th>V6</th>\n",
              "      <td>-0.063016</td>\n",
              "      <td>2.398071e-16</td>\n",
              "      <td>5.024680e-16</td>\n",
              "      <td>1.431581e-15</td>\n",
              "      <td>-2.712659e-16</td>\n",
              "      <td>7.926364e-16</td>\n",
              "      <td>1.000000e+00</td>\n",
              "      <td>1.429426e-16</td>\n",
              "      <td>-1.707421e-16</td>\n",
              "      <td>1.114447e-16</td>\n",
              "      <td>2.850776e-16</td>\n",
              "      <td>4.865799e-16</td>\n",
              "      <td>2.140589e-16</td>\n",
              "      <td>-2.268061e-16</td>\n",
              "      <td>3.452801e-16</td>\n",
              "      <td>-6.368111e-18</td>\n",
              "      <td>-2.477917e-16</td>\n",
              "      <td>3.567582e-16</td>\n",
              "      <td>2.811474e-16</td>\n",
              "      <td>2.717167e-16</td>\n",
              "      <td>1.898638e-16</td>\n",
              "      <td>-1.575903e-16</td>\n",
              "      <td>-3.362902e-16</td>\n",
              "      <td>-7.232186e-17</td>\n",
              "      <td>-1.261867e-15</td>\n",
              "      <td>1.081933e-15</td>\n",
              "      <td>-2.378414e-16</td>\n",
              "      <td>-2.623818e-16</td>\n",
              "      <td>4.813155e-16</td>\n",
              "      <td>0.215981</td>\n",
              "      <td>-0.043643</td>\n",
              "    </tr>\n",
              "    <tr>\n",
              "      <th>V7</th>\n",
              "      <td>0.084714</td>\n",
              "      <td>1.991550e-15</td>\n",
              "      <td>3.966486e-16</td>\n",
              "      <td>2.168574e-15</td>\n",
              "      <td>1.556330e-16</td>\n",
              "      <td>-4.209851e-16</td>\n",
              "      <td>1.429426e-16</td>\n",
              "      <td>1.000000e+00</td>\n",
              "      <td>-8.691834e-17</td>\n",
              "      <td>7.933251e-16</td>\n",
              "      <td>3.043333e-17</td>\n",
              "      <td>-1.084105e-15</td>\n",
              "      <td>1.510045e-15</td>\n",
              "      <td>-9.892325e-17</td>\n",
              "      <td>-1.729462e-16</td>\n",
              "      <td>1.936832e-17</td>\n",
              "      <td>2.893672e-16</td>\n",
              "      <td>1.149692e-15</td>\n",
              "      <td>-1.116789e-16</td>\n",
              "      <td>-2.874017e-16</td>\n",
              "      <td>1.744242e-16</td>\n",
              "      <td>1.938604e-16</td>\n",
              "      <td>-1.058131e-15</td>\n",
              "      <td>2.327911e-16</td>\n",
              "      <td>-2.589727e-17</td>\n",
              "      <td>1.174169e-15</td>\n",
              "      <td>-7.334507e-16</td>\n",
              "      <td>-5.886825e-16</td>\n",
              "      <td>-6.836764e-17</td>\n",
              "      <td>0.397311</td>\n",
              "      <td>-0.187257</td>\n",
              "    </tr>\n",
              "    <tr>\n",
              "      <th>V8</th>\n",
              "      <td>-0.036949</td>\n",
              "      <td>-9.490675e-17</td>\n",
              "      <td>-4.413984e-17</td>\n",
              "      <td>3.433113e-16</td>\n",
              "      <td>5.195643e-16</td>\n",
              "      <td>7.589187e-16</td>\n",
              "      <td>-1.707421e-16</td>\n",
              "      <td>-8.691834e-17</td>\n",
              "      <td>1.000000e+00</td>\n",
              "      <td>2.900829e-16</td>\n",
              "      <td>9.051847e-17</td>\n",
              "      <td>1.954747e-16</td>\n",
              "      <td>-6.266057e-17</td>\n",
              "      <td>-2.382948e-16</td>\n",
              "      <td>-1.131098e-16</td>\n",
              "      <td>2.021491e-16</td>\n",
              "      <td>5.027192e-16</td>\n",
              "      <td>-3.508777e-16</td>\n",
              "      <td>-4.093852e-16</td>\n",
              "      <td>-5.339821e-16</td>\n",
              "      <td>-1.095534e-16</td>\n",
              "      <td>-2.412439e-16</td>\n",
              "      <td>5.475559e-16</td>\n",
              "      <td>3.897104e-16</td>\n",
              "      <td>-1.802967e-16</td>\n",
              "      <td>-1.390791e-16</td>\n",
              "      <td>-1.209975e-16</td>\n",
              "      <td>1.733633e-16</td>\n",
              "      <td>-4.484325e-16</td>\n",
              "      <td>-0.103079</td>\n",
              "      <td>0.019875</td>\n",
              "    </tr>\n",
              "    <tr>\n",
              "      <th>V9</th>\n",
              "      <td>-0.008660</td>\n",
              "      <td>2.169581e-16</td>\n",
              "      <td>-5.728718e-17</td>\n",
              "      <td>-4.233770e-16</td>\n",
              "      <td>3.859585e-16</td>\n",
              "      <td>4.205206e-16</td>\n",
              "      <td>1.114447e-16</td>\n",
              "      <td>7.933251e-16</td>\n",
              "      <td>2.900829e-16</td>\n",
              "      <td>1.000000e+00</td>\n",
              "      <td>-2.771761e-16</td>\n",
              "      <td>4.682341e-16</td>\n",
              "      <td>-2.445230e-15</td>\n",
              "      <td>-2.650351e-16</td>\n",
              "      <td>2.343317e-16</td>\n",
              "      <td>-1.588105e-15</td>\n",
              "      <td>-3.251906e-16</td>\n",
              "      <td>6.535992e-16</td>\n",
              "      <td>1.203843e-16</td>\n",
              "      <td>1.120752e-16</td>\n",
              "      <td>-4.340941e-16</td>\n",
              "      <td>4.578389e-17</td>\n",
              "      <td>2.871855e-17</td>\n",
              "      <td>5.929286e-16</td>\n",
              "      <td>-2.346385e-16</td>\n",
              "      <td>1.099645e-15</td>\n",
              "      <td>-1.388725e-15</td>\n",
              "      <td>-2.287414e-16</td>\n",
              "      <td>9.146779e-16</td>\n",
              "      <td>-0.044246</td>\n",
              "      <td>-0.097733</td>\n",
              "    </tr>\n",
              "    <tr>\n",
              "      <th>V10</th>\n",
              "      <td>0.030617</td>\n",
              "      <td>7.433820e-17</td>\n",
              "      <td>-4.782388e-16</td>\n",
              "      <td>6.289267e-16</td>\n",
              "      <td>6.055490e-16</td>\n",
              "      <td>-6.601716e-16</td>\n",
              "      <td>2.850776e-16</td>\n",
              "      <td>3.043333e-17</td>\n",
              "      <td>9.051847e-17</td>\n",
              "      <td>-2.771761e-16</td>\n",
              "      <td>1.000000e+00</td>\n",
              "      <td>2.624448e-16</td>\n",
              "      <td>1.439907e-15</td>\n",
              "      <td>-8.853582e-16</td>\n",
              "      <td>2.622513e-16</td>\n",
              "      <td>7.615272e-16</td>\n",
              "      <td>-1.705923e-15</td>\n",
              "      <td>3.674182e-15</td>\n",
              "      <td>3.986710e-16</td>\n",
              "      <td>2.663038e-17</td>\n",
              "      <td>-1.141888e-15</td>\n",
              "      <td>8.089504e-16</td>\n",
              "      <td>-6.707598e-16</td>\n",
              "      <td>3.809732e-16</td>\n",
              "      <td>-4.032806e-17</td>\n",
              "      <td>-2.863813e-16</td>\n",
              "      <td>-2.554293e-16</td>\n",
              "      <td>-3.103239e-16</td>\n",
              "      <td>-1.515934e-16</td>\n",
              "      <td>-0.101502</td>\n",
              "      <td>-0.216883</td>\n",
              "    </tr>\n",
              "    <tr>\n",
              "      <th>V11</th>\n",
              "      <td>-0.247689</td>\n",
              "      <td>2.438580e-16</td>\n",
              "      <td>9.468995e-16</td>\n",
              "      <td>-5.501758e-17</td>\n",
              "      <td>-2.083600e-16</td>\n",
              "      <td>7.342759e-16</td>\n",
              "      <td>4.865799e-16</td>\n",
              "      <td>-1.084105e-15</td>\n",
              "      <td>1.954747e-16</td>\n",
              "      <td>4.682341e-16</td>\n",
              "      <td>2.624448e-16</td>\n",
              "      <td>1.000000e+00</td>\n",
              "      <td>3.176029e-15</td>\n",
              "      <td>1.945810e-15</td>\n",
              "      <td>3.637160e-17</td>\n",
              "      <td>4.801345e-16</td>\n",
              "      <td>-6.173867e-16</td>\n",
              "      <td>8.719713e-16</td>\n",
              "      <td>5.978229e-16</td>\n",
              "      <td>3.216338e-16</td>\n",
              "      <td>-2.310189e-16</td>\n",
              "      <td>-3.911893e-16</td>\n",
              "      <td>-3.811640e-17</td>\n",
              "      <td>2.232007e-16</td>\n",
              "      <td>1.219849e-15</td>\n",
              "      <td>-4.567635e-16</td>\n",
              "      <td>-1.110976e-16</td>\n",
              "      <td>-2.635827e-16</td>\n",
              "      <td>-3.091914e-16</td>\n",
              "      <td>0.000104</td>\n",
              "      <td>0.154876</td>\n",
              "    </tr>\n",
              "    <tr>\n",
              "      <th>V12</th>\n",
              "      <td>0.124348</td>\n",
              "      <td>2.422086e-16</td>\n",
              "      <td>-6.588252e-16</td>\n",
              "      <td>2.206522e-16</td>\n",
              "      <td>-5.657963e-16</td>\n",
              "      <td>3.761033e-16</td>\n",
              "      <td>2.140589e-16</td>\n",
              "      <td>1.510045e-15</td>\n",
              "      <td>-6.266057e-17</td>\n",
              "      <td>-2.445230e-15</td>\n",
              "      <td>1.439907e-15</td>\n",
              "      <td>3.176029e-15</td>\n",
              "      <td>1.000000e+00</td>\n",
              "      <td>-2.306149e-14</td>\n",
              "      <td>1.761652e-16</td>\n",
              "      <td>8.858186e-16</td>\n",
              "      <td>3.530418e-16</td>\n",
              "      <td>-9.869814e-16</td>\n",
              "      <td>-5.881814e-16</td>\n",
              "      <td>9.282566e-17</td>\n",
              "      <td>1.276976e-16</td>\n",
              "      <td>3.229576e-16</td>\n",
              "      <td>-5.903992e-16</td>\n",
              "      <td>1.392162e-16</td>\n",
              "      <td>4.901644e-16</td>\n",
              "      <td>5.053736e-16</td>\n",
              "      <td>-5.759321e-16</td>\n",
              "      <td>-2.312619e-16</td>\n",
              "      <td>7.327446e-16</td>\n",
              "      <td>-0.009542</td>\n",
              "      <td>-0.260593</td>\n",
              "    </tr>\n",
              "    <tr>\n",
              "      <th>V13</th>\n",
              "      <td>-0.065902</td>\n",
              "      <td>-2.115458e-16</td>\n",
              "      <td>3.854521e-16</td>\n",
              "      <td>-6.883375e-16</td>\n",
              "      <td>-1.506129e-16</td>\n",
              "      <td>-9.578659e-16</td>\n",
              "      <td>-2.268061e-16</td>\n",
              "      <td>-9.892325e-17</td>\n",
              "      <td>-2.382948e-16</td>\n",
              "      <td>-2.650351e-16</td>\n",
              "      <td>-8.853582e-16</td>\n",
              "      <td>1.945810e-15</td>\n",
              "      <td>-2.306149e-14</td>\n",
              "      <td>1.000000e+00</td>\n",
              "      <td>2.841428e-15</td>\n",
              "      <td>-4.728048e-16</td>\n",
              "      <td>3.361767e-16</td>\n",
              "      <td>-3.187905e-16</td>\n",
              "      <td>3.192535e-16</td>\n",
              "      <td>-2.594988e-16</td>\n",
              "      <td>2.345665e-18</td>\n",
              "      <td>9.499130e-17</td>\n",
              "      <td>-2.659710e-17</td>\n",
              "      <td>-5.884304e-16</td>\n",
              "      <td>-5.470547e-16</td>\n",
              "      <td>8.066738e-17</td>\n",
              "      <td>-2.121518e-16</td>\n",
              "      <td>-4.520414e-16</td>\n",
              "      <td>1.049541e-15</td>\n",
              "      <td>0.005293</td>\n",
              "      <td>-0.004570</td>\n",
              "    </tr>\n",
              "    <tr>\n",
              "      <th>V14</th>\n",
              "      <td>-0.098757</td>\n",
              "      <td>9.352582e-16</td>\n",
              "      <td>-2.541036e-16</td>\n",
              "      <td>4.271336e-16</td>\n",
              "      <td>-8.522435e-17</td>\n",
              "      <td>-3.634803e-16</td>\n",
              "      <td>3.452801e-16</td>\n",
              "      <td>-1.729462e-16</td>\n",
              "      <td>-1.131098e-16</td>\n",
              "      <td>2.343317e-16</td>\n",
              "      <td>2.622513e-16</td>\n",
              "      <td>3.637160e-17</td>\n",
              "      <td>1.761652e-16</td>\n",
              "      <td>2.841428e-15</td>\n",
              "      <td>1.000000e+00</td>\n",
              "      <td>4.165738e-17</td>\n",
              "      <td>7.910367e-17</td>\n",
              "      <td>4.626140e-15</td>\n",
              "      <td>8.980955e-17</td>\n",
              "      <td>-1.061486e-16</td>\n",
              "      <td>-1.789433e-16</td>\n",
              "      <td>1.634141e-17</td>\n",
              "      <td>3.439699e-16</td>\n",
              "      <td>7.620728e-17</td>\n",
              "      <td>2.335749e-16</td>\n",
              "      <td>-2.606783e-16</td>\n",
              "      <td>-6.580254e-18</td>\n",
              "      <td>1.285770e-16</td>\n",
              "      <td>2.503271e-15</td>\n",
              "      <td>0.033751</td>\n",
              "      <td>-0.302544</td>\n",
              "    </tr>\n",
              "    <tr>\n",
              "      <th>V15</th>\n",
              "      <td>-0.183453</td>\n",
              "      <td>-3.252451e-16</td>\n",
              "      <td>2.831060e-16</td>\n",
              "      <td>1.122756e-16</td>\n",
              "      <td>-1.507718e-16</td>\n",
              "      <td>-5.132620e-16</td>\n",
              "      <td>-6.368111e-18</td>\n",
              "      <td>1.936832e-17</td>\n",
              "      <td>2.021491e-16</td>\n",
              "      <td>-1.588105e-15</td>\n",
              "      <td>7.615272e-16</td>\n",
              "      <td>4.801345e-16</td>\n",
              "      <td>8.858186e-16</td>\n",
              "      <td>-4.728048e-16</td>\n",
              "      <td>4.165738e-17</td>\n",
              "      <td>1.000000e+00</td>\n",
              "      <td>1.335904e-15</td>\n",
              "      <td>3.208310e-16</td>\n",
              "      <td>7.538156e-16</td>\n",
              "      <td>-8.556257e-16</td>\n",
              "      <td>3.240475e-16</td>\n",
              "      <td>1.947458e-17</td>\n",
              "      <td>-8.936817e-16</td>\n",
              "      <td>1.119827e-16</td>\n",
              "      <td>-4.589689e-16</td>\n",
              "      <td>3.869740e-16</td>\n",
              "      <td>3.761094e-16</td>\n",
              "      <td>-1.265235e-15</td>\n",
              "      <td>-1.063286e-15</td>\n",
              "      <td>-0.002986</td>\n",
              "      <td>-0.004223</td>\n",
              "    </tr>\n",
              "    <tr>\n",
              "      <th>V16</th>\n",
              "      <td>0.011903</td>\n",
              "      <td>6.308789e-16</td>\n",
              "      <td>4.934097e-17</td>\n",
              "      <td>1.183364e-15</td>\n",
              "      <td>-6.939204e-16</td>\n",
              "      <td>-3.517076e-16</td>\n",
              "      <td>-2.477917e-16</td>\n",
              "      <td>2.893672e-16</td>\n",
              "      <td>5.027192e-16</td>\n",
              "      <td>-3.251906e-16</td>\n",
              "      <td>-1.705923e-15</td>\n",
              "      <td>-6.173867e-16</td>\n",
              "      <td>3.530418e-16</td>\n",
              "      <td>3.361767e-16</td>\n",
              "      <td>7.910367e-17</td>\n",
              "      <td>1.335904e-15</td>\n",
              "      <td>1.000000e+00</td>\n",
              "      <td>1.854297e-15</td>\n",
              "      <td>-3.015119e-15</td>\n",
              "      <td>1.041659e-15</td>\n",
              "      <td>3.903456e-16</td>\n",
              "      <td>-3.927401e-16</td>\n",
              "      <td>3.878384e-17</td>\n",
              "      <td>8.519670e-16</td>\n",
              "      <td>-4.289239e-16</td>\n",
              "      <td>-6.644104e-16</td>\n",
              "      <td>-5.186503e-16</td>\n",
              "      <td>7.820038e-16</td>\n",
              "      <td>8.637186e-16</td>\n",
              "      <td>-0.003910</td>\n",
              "      <td>-0.196539</td>\n",
              "    </tr>\n",
              "    <tr>\n",
              "      <th>V17</th>\n",
              "      <td>-0.073297</td>\n",
              "      <td>-5.011524e-16</td>\n",
              "      <td>-9.883008e-16</td>\n",
              "      <td>4.576619e-17</td>\n",
              "      <td>-4.397925e-16</td>\n",
              "      <td>1.425729e-16</td>\n",
              "      <td>3.567582e-16</td>\n",
              "      <td>1.149692e-15</td>\n",
              "      <td>-3.508777e-16</td>\n",
              "      <td>6.535992e-16</td>\n",
              "      <td>3.674182e-15</td>\n",
              "      <td>8.719713e-16</td>\n",
              "      <td>-9.869814e-16</td>\n",
              "      <td>-3.187905e-16</td>\n",
              "      <td>4.626140e-15</td>\n",
              "      <td>3.208310e-16</td>\n",
              "      <td>1.854297e-15</td>\n",
              "      <td>1.000000e+00</td>\n",
              "      <td>-5.584714e-15</td>\n",
              "      <td>-3.916791e-16</td>\n",
              "      <td>-9.887431e-16</td>\n",
              "      <td>-7.753967e-16</td>\n",
              "      <td>-8.389703e-16</td>\n",
              "      <td>5.367784e-16</td>\n",
              "      <td>-5.543631e-17</td>\n",
              "      <td>4.822068e-16</td>\n",
              "      <td>4.870302e-16</td>\n",
              "      <td>8.844373e-16</td>\n",
              "      <td>-2.182692e-16</td>\n",
              "      <td>0.007309</td>\n",
              "      <td>-0.326481</td>\n",
              "    </tr>\n",
              "    <tr>\n",
              "      <th>V18</th>\n",
              "      <td>0.090438</td>\n",
              "      <td>2.870125e-16</td>\n",
              "      <td>2.636654e-16</td>\n",
              "      <td>5.427965e-16</td>\n",
              "      <td>1.493667e-16</td>\n",
              "      <td>1.109525e-15</td>\n",
              "      <td>2.811474e-16</td>\n",
              "      <td>-1.116789e-16</td>\n",
              "      <td>-4.093852e-16</td>\n",
              "      <td>1.203843e-16</td>\n",
              "      <td>3.986710e-16</td>\n",
              "      <td>5.978229e-16</td>\n",
              "      <td>-5.881814e-16</td>\n",
              "      <td>3.192535e-16</td>\n",
              "      <td>8.980955e-17</td>\n",
              "      <td>7.538156e-16</td>\n",
              "      <td>-3.015119e-15</td>\n",
              "      <td>-5.584714e-15</td>\n",
              "      <td>1.000000e+00</td>\n",
              "      <td>-2.424185e-15</td>\n",
              "      <td>-4.942764e-16</td>\n",
              "      <td>-1.140973e-15</td>\n",
              "      <td>-8.662635e-17</td>\n",
              "      <td>-3.624236e-16</td>\n",
              "      <td>-1.126043e-16</td>\n",
              "      <td>-2.310856e-16</td>\n",
              "      <td>3.183964e-16</td>\n",
              "      <td>2.435170e-16</td>\n",
              "      <td>8.844995e-16</td>\n",
              "      <td>0.035650</td>\n",
              "      <td>-0.111485</td>\n",
              "    </tr>\n",
              "    <tr>\n",
              "      <th>V19</th>\n",
              "      <td>0.028975</td>\n",
              "      <td>1.818128e-16</td>\n",
              "      <td>9.528280e-17</td>\n",
              "      <td>2.576773e-16</td>\n",
              "      <td>-2.656938e-16</td>\n",
              "      <td>-3.138234e-16</td>\n",
              "      <td>2.717167e-16</td>\n",
              "      <td>-2.874017e-16</td>\n",
              "      <td>-5.339821e-16</td>\n",
              "      <td>1.120752e-16</td>\n",
              "      <td>2.663038e-17</td>\n",
              "      <td>3.216338e-16</td>\n",
              "      <td>9.282566e-17</td>\n",
              "      <td>-2.594988e-16</td>\n",
              "      <td>-1.061486e-16</td>\n",
              "      <td>-8.556257e-16</td>\n",
              "      <td>1.041659e-15</td>\n",
              "      <td>-3.916791e-16</td>\n",
              "      <td>-2.424185e-15</td>\n",
              "      <td>1.000000e+00</td>\n",
              "      <td>2.938450e-16</td>\n",
              "      <td>4.032541e-16</td>\n",
              "      <td>-9.690436e-16</td>\n",
              "      <td>5.733798e-16</td>\n",
              "      <td>3.126716e-17</td>\n",
              "      <td>7.415355e-16</td>\n",
              "      <td>5.614354e-16</td>\n",
              "      <td>-1.113035e-16</td>\n",
              "      <td>-1.375843e-15</td>\n",
              "      <td>-0.056151</td>\n",
              "      <td>0.034783</td>\n",
              "    </tr>\n",
              "    <tr>\n",
              "      <th>V20</th>\n",
              "      <td>-0.050866</td>\n",
              "      <td>1.036959e-16</td>\n",
              "      <td>-9.309954e-16</td>\n",
              "      <td>-9.429297e-16</td>\n",
              "      <td>-3.223123e-16</td>\n",
              "      <td>2.076048e-16</td>\n",
              "      <td>1.898638e-16</td>\n",
              "      <td>1.744242e-16</td>\n",
              "      <td>-1.095534e-16</td>\n",
              "      <td>-4.340941e-16</td>\n",
              "      <td>-1.141888e-15</td>\n",
              "      <td>-2.310189e-16</td>\n",
              "      <td>1.276976e-16</td>\n",
              "      <td>2.345665e-18</td>\n",
              "      <td>-1.789433e-16</td>\n",
              "      <td>3.240475e-16</td>\n",
              "      <td>3.903456e-16</td>\n",
              "      <td>-9.887431e-16</td>\n",
              "      <td>-4.942764e-16</td>\n",
              "      <td>2.938450e-16</td>\n",
              "      <td>1.000000e+00</td>\n",
              "      <td>-1.120828e-15</td>\n",
              "      <td>1.105842e-15</td>\n",
              "      <td>4.986739e-16</td>\n",
              "      <td>1.637488e-16</td>\n",
              "      <td>-1.518242e-16</td>\n",
              "      <td>-2.975081e-16</td>\n",
              "      <td>-1.446069e-15</td>\n",
              "      <td>-1.133579e-16</td>\n",
              "      <td>0.339403</td>\n",
              "      <td>0.020090</td>\n",
              "    </tr>\n",
              "    <tr>\n",
              "      <th>V21</th>\n",
              "      <td>0.044736</td>\n",
              "      <td>-1.755072e-16</td>\n",
              "      <td>8.444409e-17</td>\n",
              "      <td>-2.971969e-17</td>\n",
              "      <td>-9.976950e-17</td>\n",
              "      <td>-1.368701e-16</td>\n",
              "      <td>-1.575903e-16</td>\n",
              "      <td>1.938604e-16</td>\n",
              "      <td>-2.412439e-16</td>\n",
              "      <td>4.578389e-17</td>\n",
              "      <td>8.089504e-16</td>\n",
              "      <td>-3.911893e-16</td>\n",
              "      <td>3.229576e-16</td>\n",
              "      <td>9.499130e-17</td>\n",
              "      <td>1.634141e-17</td>\n",
              "      <td>1.947458e-17</td>\n",
              "      <td>-3.927401e-16</td>\n",
              "      <td>-7.753967e-16</td>\n",
              "      <td>-1.140973e-15</td>\n",
              "      <td>4.032541e-16</td>\n",
              "      <td>-1.120828e-15</td>\n",
              "      <td>1.000000e+00</td>\n",
              "      <td>3.905948e-15</td>\n",
              "      <td>6.127323e-16</td>\n",
              "      <td>1.298254e-16</td>\n",
              "      <td>-2.826293e-16</td>\n",
              "      <td>-4.907301e-16</td>\n",
              "      <td>-1.033403e-15</td>\n",
              "      <td>5.132234e-16</td>\n",
              "      <td>0.105999</td>\n",
              "      <td>0.040413</td>\n",
              "    </tr>\n",
              "    <tr>\n",
              "      <th>V22</th>\n",
              "      <td>0.144059</td>\n",
              "      <td>7.477367e-17</td>\n",
              "      <td>2.500830e-16</td>\n",
              "      <td>4.648259e-16</td>\n",
              "      <td>2.099922e-16</td>\n",
              "      <td>5.060029e-16</td>\n",
              "      <td>-3.362902e-16</td>\n",
              "      <td>-1.058131e-15</td>\n",
              "      <td>5.475559e-16</td>\n",
              "      <td>2.871855e-17</td>\n",
              "      <td>-6.707598e-16</td>\n",
              "      <td>-3.811640e-17</td>\n",
              "      <td>-5.903992e-16</td>\n",
              "      <td>-2.659710e-17</td>\n",
              "      <td>3.439699e-16</td>\n",
              "      <td>-8.936817e-16</td>\n",
              "      <td>3.878384e-17</td>\n",
              "      <td>-8.389703e-16</td>\n",
              "      <td>-8.662635e-17</td>\n",
              "      <td>-9.690436e-16</td>\n",
              "      <td>1.105842e-15</td>\n",
              "      <td>3.905948e-15</td>\n",
              "      <td>1.000000e+00</td>\n",
              "      <td>3.130812e-16</td>\n",
              "      <td>1.150829e-17</td>\n",
              "      <td>-6.078986e-16</td>\n",
              "      <td>-8.477050e-16</td>\n",
              "      <td>-1.294910e-16</td>\n",
              "      <td>-3.021376e-16</td>\n",
              "      <td>-0.064801</td>\n",
              "      <td>0.000805</td>\n",
              "    </tr>\n",
              "    <tr>\n",
              "      <th>V23</th>\n",
              "      <td>0.051142</td>\n",
              "      <td>9.808705e-16</td>\n",
              "      <td>1.059562e-16</td>\n",
              "      <td>2.115206e-17</td>\n",
              "      <td>6.002528e-17</td>\n",
              "      <td>1.637596e-16</td>\n",
              "      <td>-7.232186e-17</td>\n",
              "      <td>2.327911e-16</td>\n",
              "      <td>3.897104e-16</td>\n",
              "      <td>5.929286e-16</td>\n",
              "      <td>3.809732e-16</td>\n",
              "      <td>2.232007e-16</td>\n",
              "      <td>1.392162e-16</td>\n",
              "      <td>-5.884304e-16</td>\n",
              "      <td>7.620728e-17</td>\n",
              "      <td>1.119827e-16</td>\n",
              "      <td>8.519670e-16</td>\n",
              "      <td>5.367784e-16</td>\n",
              "      <td>-3.624236e-16</td>\n",
              "      <td>5.733798e-16</td>\n",
              "      <td>4.986739e-16</td>\n",
              "      <td>6.127323e-16</td>\n",
              "      <td>3.130812e-16</td>\n",
              "      <td>1.000000e+00</td>\n",
              "      <td>-4.411271e-17</td>\n",
              "      <td>-9.938362e-16</td>\n",
              "      <td>8.848700e-16</td>\n",
              "      <td>5.524044e-16</td>\n",
              "      <td>9.029821e-16</td>\n",
              "      <td>-0.112633</td>\n",
              "      <td>-0.002685</td>\n",
              "    </tr>\n",
              "    <tr>\n",
              "      <th>V24</th>\n",
              "      <td>-0.016182</td>\n",
              "      <td>7.354269e-17</td>\n",
              "      <td>-8.142354e-18</td>\n",
              "      <td>-9.351637e-17</td>\n",
              "      <td>2.229738e-16</td>\n",
              "      <td>-9.286095e-16</td>\n",
              "      <td>-1.261867e-15</td>\n",
              "      <td>-2.589727e-17</td>\n",
              "      <td>-1.802967e-16</td>\n",
              "      <td>-2.346385e-16</td>\n",
              "      <td>-4.032806e-17</td>\n",
              "      <td>1.219849e-15</td>\n",
              "      <td>4.901644e-16</td>\n",
              "      <td>-5.470547e-16</td>\n",
              "      <td>2.335749e-16</td>\n",
              "      <td>-4.589689e-16</td>\n",
              "      <td>-4.289239e-16</td>\n",
              "      <td>-5.543631e-17</td>\n",
              "      <td>-1.126043e-16</td>\n",
              "      <td>3.126716e-17</td>\n",
              "      <td>1.637488e-16</td>\n",
              "      <td>1.298254e-16</td>\n",
              "      <td>1.150829e-17</td>\n",
              "      <td>-4.411271e-17</td>\n",
              "      <td>1.000000e+00</td>\n",
              "      <td>1.557318e-15</td>\n",
              "      <td>3.129195e-16</td>\n",
              "      <td>-3.736529e-16</td>\n",
              "      <td>-2.259275e-16</td>\n",
              "      <td>0.005146</td>\n",
              "      <td>-0.007221</td>\n",
              "    </tr>\n",
              "    <tr>\n",
              "      <th>V25</th>\n",
              "      <td>-0.233083</td>\n",
              "      <td>-9.805358e-16</td>\n",
              "      <td>-4.261894e-17</td>\n",
              "      <td>4.771164e-16</td>\n",
              "      <td>5.394585e-16</td>\n",
              "      <td>5.625102e-16</td>\n",
              "      <td>1.081933e-15</td>\n",
              "      <td>1.174169e-15</td>\n",
              "      <td>-1.390791e-16</td>\n",
              "      <td>1.099645e-15</td>\n",
              "      <td>-2.863813e-16</td>\n",
              "      <td>-4.567635e-16</td>\n",
              "      <td>5.053736e-16</td>\n",
              "      <td>8.066738e-17</td>\n",
              "      <td>-2.606783e-16</td>\n",
              "      <td>3.869740e-16</td>\n",
              "      <td>-6.644104e-16</td>\n",
              "      <td>4.822068e-16</td>\n",
              "      <td>-2.310856e-16</td>\n",
              "      <td>7.415355e-16</td>\n",
              "      <td>-1.518242e-16</td>\n",
              "      <td>-2.826293e-16</td>\n",
              "      <td>-6.078986e-16</td>\n",
              "      <td>-9.938362e-16</td>\n",
              "      <td>1.557318e-15</td>\n",
              "      <td>1.000000e+00</td>\n",
              "      <td>2.810884e-15</td>\n",
              "      <td>-6.107118e-16</td>\n",
              "      <td>3.399375e-16</td>\n",
              "      <td>-0.047837</td>\n",
              "      <td>0.003308</td>\n",
              "    </tr>\n",
              "    <tr>\n",
              "      <th>V26</th>\n",
              "      <td>-0.041407</td>\n",
              "      <td>-8.621897e-17</td>\n",
              "      <td>2.601622e-16</td>\n",
              "      <td>6.521501e-16</td>\n",
              "      <td>-6.179751e-16</td>\n",
              "      <td>9.144690e-16</td>\n",
              "      <td>-2.378414e-16</td>\n",
              "      <td>-7.334507e-16</td>\n",
              "      <td>-1.209975e-16</td>\n",
              "      <td>-1.388725e-15</td>\n",
              "      <td>-2.554293e-16</td>\n",
              "      <td>-1.110976e-16</td>\n",
              "      <td>-5.759321e-16</td>\n",
              "      <td>-2.121518e-16</td>\n",
              "      <td>-6.580254e-18</td>\n",
              "      <td>3.761094e-16</td>\n",
              "      <td>-5.186503e-16</td>\n",
              "      <td>4.870302e-16</td>\n",
              "      <td>3.183964e-16</td>\n",
              "      <td>5.614354e-16</td>\n",
              "      <td>-2.975081e-16</td>\n",
              "      <td>-4.907301e-16</td>\n",
              "      <td>-8.477050e-16</td>\n",
              "      <td>8.848700e-16</td>\n",
              "      <td>3.129195e-16</td>\n",
              "      <td>2.810884e-15</td>\n",
              "      <td>1.000000e+00</td>\n",
              "      <td>-3.383861e-16</td>\n",
              "      <td>-3.751403e-16</td>\n",
              "      <td>-0.003208</td>\n",
              "      <td>0.004455</td>\n",
              "    </tr>\n",
              "    <tr>\n",
              "      <th>V27</th>\n",
              "      <td>-0.005135</td>\n",
              "      <td>3.208233e-17</td>\n",
              "      <td>-4.478472e-16</td>\n",
              "      <td>6.239832e-16</td>\n",
              "      <td>-6.403423e-17</td>\n",
              "      <td>4.465960e-16</td>\n",
              "      <td>-2.623818e-16</td>\n",
              "      <td>-5.886825e-16</td>\n",
              "      <td>1.733633e-16</td>\n",
              "      <td>-2.287414e-16</td>\n",
              "      <td>-3.103239e-16</td>\n",
              "      <td>-2.635827e-16</td>\n",
              "      <td>-2.312619e-16</td>\n",
              "      <td>-4.520414e-16</td>\n",
              "      <td>1.285770e-16</td>\n",
              "      <td>-1.265235e-15</td>\n",
              "      <td>7.820038e-16</td>\n",
              "      <td>8.844373e-16</td>\n",
              "      <td>2.435170e-16</td>\n",
              "      <td>-1.113035e-16</td>\n",
              "      <td>-1.446069e-15</td>\n",
              "      <td>-1.033403e-15</td>\n",
              "      <td>-1.294910e-16</td>\n",
              "      <td>5.524044e-16</td>\n",
              "      <td>-3.736529e-16</td>\n",
              "      <td>-6.107118e-16</td>\n",
              "      <td>-3.383861e-16</td>\n",
              "      <td>1.000000e+00</td>\n",
              "      <td>-3.770124e-16</td>\n",
              "      <td>0.028825</td>\n",
              "      <td>0.017580</td>\n",
              "    </tr>\n",
              "    <tr>\n",
              "      <th>V28</th>\n",
              "      <td>-0.009413</td>\n",
              "      <td>9.820892e-16</td>\n",
              "      <td>-3.676415e-16</td>\n",
              "      <td>7.726948e-16</td>\n",
              "      <td>-5.863664e-17</td>\n",
              "      <td>-3.299167e-16</td>\n",
              "      <td>4.813155e-16</td>\n",
              "      <td>-6.836764e-17</td>\n",
              "      <td>-4.484325e-16</td>\n",
              "      <td>9.146779e-16</td>\n",
              "      <td>-1.515934e-16</td>\n",
              "      <td>-3.091914e-16</td>\n",
              "      <td>7.327446e-16</td>\n",
              "      <td>1.049541e-15</td>\n",
              "      <td>2.503271e-15</td>\n",
              "      <td>-1.063286e-15</td>\n",
              "      <td>8.637186e-16</td>\n",
              "      <td>-2.182692e-16</td>\n",
              "      <td>8.844995e-16</td>\n",
              "      <td>-1.375843e-15</td>\n",
              "      <td>-1.133579e-16</td>\n",
              "      <td>5.132234e-16</td>\n",
              "      <td>-3.021376e-16</td>\n",
              "      <td>9.029821e-16</td>\n",
              "      <td>-2.259275e-16</td>\n",
              "      <td>3.399375e-16</td>\n",
              "      <td>-3.751403e-16</td>\n",
              "      <td>-3.770124e-16</td>\n",
              "      <td>1.000000e+00</td>\n",
              "      <td>0.010258</td>\n",
              "      <td>0.009536</td>\n",
              "    </tr>\n",
              "    <tr>\n",
              "      <th>Amount</th>\n",
              "      <td>-0.010596</td>\n",
              "      <td>-2.277087e-01</td>\n",
              "      <td>-5.314089e-01</td>\n",
              "      <td>-2.108805e-01</td>\n",
              "      <td>9.873167e-02</td>\n",
              "      <td>-3.863563e-01</td>\n",
              "      <td>2.159812e-01</td>\n",
              "      <td>3.973113e-01</td>\n",
              "      <td>-1.030791e-01</td>\n",
              "      <td>-4.424560e-02</td>\n",
              "      <td>-1.015021e-01</td>\n",
              "      <td>1.039770e-04</td>\n",
              "      <td>-9.541802e-03</td>\n",
              "      <td>5.293409e-03</td>\n",
              "      <td>3.375117e-02</td>\n",
              "      <td>-2.985848e-03</td>\n",
              "      <td>-3.909527e-03</td>\n",
              "      <td>7.309042e-03</td>\n",
              "      <td>3.565034e-02</td>\n",
              "      <td>-5.615079e-02</td>\n",
              "      <td>3.394034e-01</td>\n",
              "      <td>1.059989e-01</td>\n",
              "      <td>-6.480065e-02</td>\n",
              "      <td>-1.126326e-01</td>\n",
              "      <td>5.146217e-03</td>\n",
              "      <td>-4.783686e-02</td>\n",
              "      <td>-3.208037e-03</td>\n",
              "      <td>2.882546e-02</td>\n",
              "      <td>1.025822e-02</td>\n",
              "      <td>1.000000</td>\n",
              "      <td>0.005632</td>\n",
              "    </tr>\n",
              "    <tr>\n",
              "      <th>Class</th>\n",
              "      <td>-0.012323</td>\n",
              "      <td>-1.013473e-01</td>\n",
              "      <td>9.128865e-02</td>\n",
              "      <td>-1.929608e-01</td>\n",
              "      <td>1.334475e-01</td>\n",
              "      <td>-9.497430e-02</td>\n",
              "      <td>-4.364316e-02</td>\n",
              "      <td>-1.872566e-01</td>\n",
              "      <td>1.987512e-02</td>\n",
              "      <td>-9.773269e-02</td>\n",
              "      <td>-2.168829e-01</td>\n",
              "      <td>1.548756e-01</td>\n",
              "      <td>-2.605929e-01</td>\n",
              "      <td>-4.569779e-03</td>\n",
              "      <td>-3.025437e-01</td>\n",
              "      <td>-4.223402e-03</td>\n",
              "      <td>-1.965389e-01</td>\n",
              "      <td>-3.264811e-01</td>\n",
              "      <td>-1.114853e-01</td>\n",
              "      <td>3.478301e-02</td>\n",
              "      <td>2.009032e-02</td>\n",
              "      <td>4.041338e-02</td>\n",
              "      <td>8.053175e-04</td>\n",
              "      <td>-2.685156e-03</td>\n",
              "      <td>-7.220907e-03</td>\n",
              "      <td>3.307706e-03</td>\n",
              "      <td>4.455398e-03</td>\n",
              "      <td>1.757973e-02</td>\n",
              "      <td>9.536041e-03</td>\n",
              "      <td>0.005632</td>\n",
              "      <td>1.000000</td>\n",
              "    </tr>\n",
              "  </tbody>\n",
              "</table>\n",
              "</div>"
            ],
            "text/plain": [
              "            Time            V1            V2  ...           V28    Amount     Class\n",
              "Time    1.000000  1.173963e-01 -1.059333e-02  ... -9.412688e-03 -0.010596 -0.012323\n",
              "V1      0.117396  1.000000e+00  4.697350e-17  ...  9.820892e-16 -0.227709 -0.101347\n",
              "V2     -0.010593  4.697350e-17  1.000000e+00  ... -3.676415e-16 -0.531409  0.091289\n",
              "V3     -0.419618 -1.424390e-15  2.512175e-16  ...  7.726948e-16 -0.210880 -0.192961\n",
              "V4     -0.105260  1.755316e-17 -1.126388e-16  ... -5.863664e-17  0.098732  0.133447\n",
              "V5      0.173072  6.391162e-17 -2.039868e-16  ... -3.299167e-16 -0.386356 -0.094974\n",
              "V6     -0.063016  2.398071e-16  5.024680e-16  ...  4.813155e-16  0.215981 -0.043643\n",
              "V7      0.084714  1.991550e-15  3.966486e-16  ... -6.836764e-17  0.397311 -0.187257\n",
              "V8     -0.036949 -9.490675e-17 -4.413984e-17  ... -4.484325e-16 -0.103079  0.019875\n",
              "V9     -0.008660  2.169581e-16 -5.728718e-17  ...  9.146779e-16 -0.044246 -0.097733\n",
              "V10     0.030617  7.433820e-17 -4.782388e-16  ... -1.515934e-16 -0.101502 -0.216883\n",
              "V11    -0.247689  2.438580e-16  9.468995e-16  ... -3.091914e-16  0.000104  0.154876\n",
              "V12     0.124348  2.422086e-16 -6.588252e-16  ...  7.327446e-16 -0.009542 -0.260593\n",
              "V13    -0.065902 -2.115458e-16  3.854521e-16  ...  1.049541e-15  0.005293 -0.004570\n",
              "V14    -0.098757  9.352582e-16 -2.541036e-16  ...  2.503271e-15  0.033751 -0.302544\n",
              "V15    -0.183453 -3.252451e-16  2.831060e-16  ... -1.063286e-15 -0.002986 -0.004223\n",
              "V16     0.011903  6.308789e-16  4.934097e-17  ...  8.637186e-16 -0.003910 -0.196539\n",
              "V17    -0.073297 -5.011524e-16 -9.883008e-16  ... -2.182692e-16  0.007309 -0.326481\n",
              "V18     0.090438  2.870125e-16  2.636654e-16  ...  8.844995e-16  0.035650 -0.111485\n",
              "V19     0.028975  1.818128e-16  9.528280e-17  ... -1.375843e-15 -0.056151  0.034783\n",
              "V20    -0.050866  1.036959e-16 -9.309954e-16  ... -1.133579e-16  0.339403  0.020090\n",
              "V21     0.044736 -1.755072e-16  8.444409e-17  ...  5.132234e-16  0.105999  0.040413\n",
              "V22     0.144059  7.477367e-17  2.500830e-16  ... -3.021376e-16 -0.064801  0.000805\n",
              "V23     0.051142  9.808705e-16  1.059562e-16  ...  9.029821e-16 -0.112633 -0.002685\n",
              "V24    -0.016182  7.354269e-17 -8.142354e-18  ... -2.259275e-16  0.005146 -0.007221\n",
              "V25    -0.233083 -9.805358e-16 -4.261894e-17  ...  3.399375e-16 -0.047837  0.003308\n",
              "V26    -0.041407 -8.621897e-17  2.601622e-16  ... -3.751403e-16 -0.003208  0.004455\n",
              "V27    -0.005135  3.208233e-17 -4.478472e-16  ... -3.770124e-16  0.028825  0.017580\n",
              "V28    -0.009413  9.820892e-16 -3.676415e-16  ...  1.000000e+00  0.010258  0.009536\n",
              "Amount -0.010596 -2.277087e-01 -5.314089e-01  ...  1.025822e-02  1.000000  0.005632\n",
              "Class  -0.012323 -1.013473e-01  9.128865e-02  ...  9.536041e-03  0.005632  1.000000\n",
              "\n",
              "[31 rows x 31 columns]"
            ]
          },
          "metadata": {
            "tags": []
          },
          "execution_count": 212
        }
      ]
    },
    {
      "cell_type": "markdown",
      "metadata": {
        "id": "twV8qgikoBtX"
      },
      "source": [
        "O máximo que eu posso fazer é verificar a correlação cruzada de forma a encontrar se algum dos parâmetros tem a mesma \"função\" que algum outro, que não parece ser o caso."
      ]
    },
    {
      "cell_type": "markdown",
      "metadata": {
        "id": "k-afiunvnJ_X"
      },
      "source": [
        "## **Modelagem Primária**"
      ]
    },
    {
      "cell_type": "code",
      "metadata": {
        "colab": {
          "base_uri": "https://localhost:8080/"
        },
        "id": "yrJOvXAPpcpF",
        "outputId": "b4d32473-3b24-4251-e0df-6ca6c012733b"
      },
      "source": [
        "df['Class'].value_counts(normalize=True)"
      ],
      "execution_count": 213,
      "outputs": [
        {
          "output_type": "execute_result",
          "data": {
            "text/plain": [
              "0    0.998273\n",
              "1    0.001727\n",
              "Name: Class, dtype: float64"
            ]
          },
          "metadata": {
            "tags": []
          },
          "execution_count": 213
        }
      ]
    },
    {
      "cell_type": "code",
      "metadata": {
        "colab": {
          "base_uri": "https://localhost:8080/",
          "height": 350
        },
        "id": "tgqSb2UXoQiA",
        "outputId": "8d384267-2c38-4ddb-ed9d-53664e464f1b"
      },
      "source": [
        "sns.countplot(df['Class'])"
      ],
      "execution_count": 214,
      "outputs": [
        {
          "output_type": "stream",
          "text": [
            "/usr/local/lib/python3.7/dist-packages/seaborn/_decorators.py:43: FutureWarning: Pass the following variable as a keyword arg: x. From version 0.12, the only valid positional argument will be `data`, and passing other arguments without an explicit keyword will result in an error or misinterpretation.\n",
            "  FutureWarning\n"
          ],
          "name": "stderr"
        },
        {
          "output_type": "execute_result",
          "data": {
            "text/plain": [
              "<matplotlib.axes._subplots.AxesSubplot at 0x7f08e8a26890>"
            ]
          },
          "metadata": {
            "tags": []
          },
          "execution_count": 214
        },
        {
          "output_type": "display_data",
          "data": {
            "image/png": "[encoded data removed]",
            "text/plain": [
              "<Figure size 432x288 with 1 Axes>"
            ]
          },
          "metadata": {
            "tags": [],
            "needs_background": "light"
          }
        }
      ]
    },
    {
      "cell_type": "markdown",
      "metadata": {
        "id": "QwUHWwZep_Et"
      },
      "source": [
        "Como podemos ver estamos trabalhando com classes completamente desbalanceadas, onde as fraudes só computam 0,19% das transações."
      ]
    },
    {
      "cell_type": "markdown",
      "metadata": {
        "id": "2cnGbbiIqs9N"
      },
      "source": [
        "Logo para obtermos um ótimo modelo basta fazermos o seguinte:"
      ]
    },
    {
      "cell_type": "code",
      "metadata": {
        "id": "qrQXcpNrrqnC"
      },
      "source": [
        "x = df.drop('Class', axis=1)\n",
        "y = df['Class']"
      ],
      "execution_count": 215,
      "outputs": []
    },
    {
      "cell_type": "code",
      "metadata": {
        "id": "eQLY1WsErZ9L"
      },
      "source": [
        "x_train, x_test, y_train, y_test = train_test_split(x,y,stratify=y)"
      ],
      "execution_count": 216,
      "outputs": []
    },
    {
      "cell_type": "code",
      "metadata": {
        "id": "qHK7sMvqqxJT"
      },
      "source": [
        "modelo = DummyClassifier(strategy=\"most_frequent\")\n",
        "modelo.fit(x_train,y_train)\n",
        "y_pred = modelo.predict(x_test)"
      ],
      "execution_count": 217,
      "outputs": []
    },
    {
      "cell_type": "code",
      "metadata": {
        "colab": {
          "base_uri": "https://localhost:8080/"
        },
        "id": "bwqFMQ5MsT8B",
        "outputId": "5ee36564-d884-4b7b-c47f-69175972a282"
      },
      "source": [
        "accuracy_score(y_test,y_pred)"
      ],
      "execution_count": 218,
      "outputs": [
        {
          "output_type": "execute_result",
          "data": {
            "text/plain": [
              "0.9982725204348193"
            ]
          },
          "metadata": {
            "tags": []
          },
          "execution_count": 218
        }
      ]
    },
    {
      "cell_type": "markdown",
      "metadata": {
        "id": "4ZOcekLjsqQS"
      },
      "source": [
        "Podemos ver que conseguimos facilmente um modelo com 99,8% de acurácia, bastou apenas chutar que ninguém está tentando fraudar suas transações."
      ]
    },
    {
      "cell_type": "markdown",
      "metadata": {
        "id": "DiWDClLUtOrg"
      },
      "source": [
        "Mas a análise para por ai? Tudo que procuramos é uma alta accuracy score para o nosso modelo? E no fim das contas alguma fraude foi detectada? E se a acurácia não é a melhor medida do meu modelo?"
      ]
    },
    {
      "cell_type": "markdown",
      "metadata": {
        "id": "pMqjX3EHo1a0"
      },
      "source": [
        "##**Exploração de outras métricas**"
      ]
    },
    {
      "cell_type": "markdown",
      "metadata": {
        "id": "JoHfRn0bNmdQ"
      },
      "source": [
        "Uma das primeiras coisas que aprendi quando comecei a trabalhar com modelos de Machine Learning através desse curso foram outras metricas que podem ser utilizadas, mas acima de tudo sua importância."
      ]
    },
    {
      "cell_type": "markdown",
      "metadata": {
        "id": "Str3T9veOCGn"
      },
      "source": [
        "Outro aspecto importante dessa análise é que estou pressupondo que haja algum tipo de segunda checagem, não apenas a parte \"supervisionada\", mas sim algum especialista/profissional ou alguma outra checagem que venha depois de meu modelo colocar uma bandeira vermelha naquele usuário que confirme tal bandeira para de fato puni-lo com um banimento da conta por exemplo. "
      ]
    },
    {
      "cell_type": "markdown",
      "metadata": {
        "id": "Gr9mxhvTP70D"
      },
      "source": [
        "Logo, se tenho alguém que vá fazer uma segunda checagem, eu não me importo de mandar pessoas que não sejam fraudadores como fraudadores em detrimento de detectar todos os fraudadores verdadeiros."
      ]
    },
    {
      "cell_type": "markdown",
      "metadata": {
        "id": "E6P6OrTaQv0E"
      },
      "source": [
        "Mas qual métrica então eu deveria usar para avaliar quantos dos meus positivos são verdadeiros e quantos dos verdadeiros positivos eu retornei como verdadeiros?"
      ]
    },
    {
      "cell_type": "markdown",
      "metadata": {
        "id": "HWWJIORvbihn"
      },
      "source": [
        "Ai que entram Precision e Recall, duas métricas que buscam evidenciar exatamente isso"
      ]
    },
    {
      "cell_type": "code",
      "metadata": {
        "colab": {
          "base_uri": "https://localhost:8080/"
        },
        "id": "JBmtgiLRcC5T",
        "outputId": "cf146b53-8a43-482b-f6fe-a8f7beb50048"
      },
      "source": [
        "precision_score(y_test,y_pred)"
      ],
      "execution_count": 219,
      "outputs": [
        {
          "output_type": "stream",
          "text": [
            "/usr/local/lib/python3.7/dist-packages/sklearn/metrics/_classification.py:1272: UndefinedMetricWarning: Precision is ill-defined and being set to 0.0 due to no predicted samples. Use `zero_division` parameter to control this behavior.\n",
            "  _warn_prf(average, modifier, msg_start, len(result))\n"
          ],
          "name": "stderr"
        },
        {
          "output_type": "execute_result",
          "data": {
            "text/plain": [
              "0.0"
            ]
          },
          "metadata": {
            "tags": []
          },
          "execution_count": 219
        }
      ]
    },
    {
      "cell_type": "code",
      "metadata": {
        "colab": {
          "base_uri": "https://localhost:8080/"
        },
        "id": "qFulmM_eb7c8",
        "outputId": "f3da4039-a9bf-4cbb-a047-87c5f55bbff9"
      },
      "source": [
        "recall_score(y_test,y_pred)"
      ],
      "execution_count": 220,
      "outputs": [
        {
          "output_type": "execute_result",
          "data": {
            "text/plain": [
              "0.0"
            ]
          },
          "metadata": {
            "tags": []
          },
          "execution_count": 220
        }
      ]
    },
    {
      "cell_type": "markdown",
      "metadata": {
        "id": "SVGzYBR8dL-N"
      },
      "source": [
        "Podemos ver que segundo essa métrica, o nosso modelo anterior não só não obteve a mesma proeficiência, como deixou a desejar. Po onde começar a melhorar isso?"
      ]
    },
    {
      "cell_type": "markdown",
      "metadata": {
        "id": "ELwrXcsOdkdC"
      },
      "source": [
        "A opção mais óbvia é começar com um modelo que tenta predizer de verdade as fraudes:"
      ]
    },
    {
      "cell_type": "code",
      "metadata": {
        "id": "-7fpu4DAdjUK"
      },
      "source": [
        "modelo = RandomForestClassifier()"
      ],
      "execution_count": 221,
      "outputs": []
    },
    {
      "cell_type": "markdown",
      "metadata": {
        "id": "RH9Q09LMeMN7"
      },
      "source": [
        "Aqui vou usar um modelo de Random Forest não só porque, após uma rápida pesquisa, parece ser um bom modelo para esse tipo de caso, mas como é o modelo que eu quero experimentar afim de aprender."
      ]
    },
    {
      "cell_type": "code",
      "metadata": {
        "id": "1XVGUBGiez3R"
      },
      "source": [
        "modelo.fit(x_train,y_train)\n",
        "y_pred = modelo.predict(x_test)"
      ],
      "execution_count": 222,
      "outputs": []
    },
    {
      "cell_type": "code",
      "metadata": {
        "colab": {
          "base_uri": "https://localhost:8080/"
        },
        "id": "3mvM4omZfFDn",
        "outputId": "72d1776d-5ae0-47c2-b6dd-4928c3b68ac8"
      },
      "source": [
        "accuracy_score(y_test,y_pred)"
      ],
      "execution_count": 223,
      "outputs": [
        {
          "output_type": "execute_result",
          "data": {
            "text/plain": [
              "0.999592708069998"
            ]
          },
          "metadata": {
            "tags": []
          },
          "execution_count": 223
        }
      ]
    },
    {
      "cell_type": "code",
      "metadata": {
        "colab": {
          "base_uri": "https://localhost:8080/"
        },
        "id": "yE6HZsJIfL55",
        "outputId": "15855d0c-fc40-4d10-e265-28b4601c714e"
      },
      "source": [
        "precision_score(y_test,y_pred)"
      ],
      "execution_count": 224,
      "outputs": [
        {
          "output_type": "execute_result",
          "data": {
            "text/plain": [
              "0.9433962264150944"
            ]
          },
          "metadata": {
            "tags": []
          },
          "execution_count": 224
        }
      ]
    },
    {
      "cell_type": "code",
      "metadata": {
        "colab": {
          "base_uri": "https://localhost:8080/"
        },
        "id": "uNlHlYEGfMDR",
        "outputId": "a0d34253-cfbf-47b0-ac1d-8168bc624f3a"
      },
      "source": [
        "recall_score(y_test,y_pred)"
      ],
      "execution_count": 225,
      "outputs": [
        {
          "output_type": "execute_result",
          "data": {
            "text/plain": [
              "0.8130081300813008"
            ]
          },
          "metadata": {
            "tags": []
          },
          "execution_count": 225
        }
      ]
    },
    {
      "cell_type": "code",
      "metadata": {
        "colab": {
          "base_uri": "https://localhost:8080/",
          "height": 296
        },
        "id": "QkFiw8FWhRrW",
        "outputId": "7f838e2b-fab8-4bdc-8237-c0433cf49ff3"
      },
      "source": [
        "plot_confusion_matrix(modelo,x_test,y_test)"
      ],
      "execution_count": 226,
      "outputs": [
        {
          "output_type": "execute_result",
          "data": {
            "text/plain": [
              "<sklearn.metrics._plot.confusion_matrix.ConfusionMatrixDisplay at 0x7f08e82b27d0>"
            ]
          },
          "metadata": {
            "tags": []
          },
          "execution_count": 226
        },
        {
          "output_type": "display_data",
          "data": {
            "image/png": "[encoded data removed]",
            "text/plain": [
              "<Figure size 432x288 with 2 Axes>"
            ]
          },
          "metadata": {
            "tags": [],
            "needs_background": "light"
          }
        }
      ]
    },
    {
      "cell_type": "markdown",
      "metadata": {
        "id": "HJJljSIHgOdo"
      },
      "source": [
        "Logo de cara podemos ver resultados muito melhores na precisão e no recall do que no dummy anterior."
      ]
    },
    {
      "cell_type": "markdown",
      "metadata": {
        "id": "zy7E-Wiygl2-"
      },
      "source": [
        "Porém, como eu disse antes, eu pressuponho uma segunda checagem, isso traduzido às métricas me diz que eu preciso de um alto recall sacrificando minha alta precisão no processo. A idéia é mudar o threshold do modelo para que ele seja menos restritivo em quem ele considera fraudulento e assim errar um pouco mais nos falsos positivos, porém, não deixar nenhum possível fraudador passar despercebido."
      ]
    },
    {
      "cell_type": "markdown",
      "metadata": {
        "id": "soqCplguil4f"
      },
      "source": [
        "Como eu posso mudar isso e como eu posso avaliar essa mudança?"
      ]
    },
    {
      "cell_type": "markdown",
      "metadata": {
        "id": "KKn235mvpSe8"
      },
      "source": [
        "##**Segunda Modelagem**"
      ]
    },
    {
      "cell_type": "code",
      "metadata": {
        "id": "fpUIfQ2nYUeU"
      },
      "source": [
        "modelo_novo = RandomForestClassifier()"
      ],
      "execution_count": 227,
      "outputs": []
    },
    {
      "cell_type": "code",
      "metadata": {
        "colab": {
          "base_uri": "https://localhost:8080/"
        },
        "id": "bs1Ce5MnzSdO",
        "outputId": "05e9399f-597d-47fa-9dc4-f20b8bd9f63a"
      },
      "source": [
        "modelo_novo.fit(x_train,y_train)"
      ],
      "execution_count": 228,
      "outputs": [
        {
          "output_type": "execute_result",
          "data": {
            "text/plain": [
              "RandomForestClassifier(bootstrap=True, ccp_alpha=0.0, class_weight=None,\n",
              "                       criterion='gini', max_depth=None, max_features='auto',\n",
              "                       max_leaf_nodes=None, max_samples=None,\n",
              "                       min_impurity_decrease=0.0, min_impurity_split=None,\n",
              "                       min_samples_leaf=1, min_samples_split=2,\n",
              "                       min_weight_fraction_leaf=0.0, n_estimators=100,\n",
              "                       n_jobs=None, oob_score=False, random_state=None,\n",
              "                       verbose=0, warm_start=False)"
            ]
          },
          "metadata": {
            "tags": []
          },
          "execution_count": 228
        }
      ]
    },
    {
      "cell_type": "code",
      "metadata": {
        "colab": {
          "base_uri": "https://localhost:8080/",
          "height": 296
        },
        "id": "sBW9wPI8uduW",
        "outputId": "d57df82c-87ce-4203-fc86-a4628a8a312b"
      },
      "source": [
        "plot_precision_recall_curve(modelo_novo,x,y)"
      ],
      "execution_count": 229,
      "outputs": [
        {
          "output_type": "execute_result",
          "data": {
            "text/plain": [
              "<sklearn.metrics._plot.precision_recall_curve.PrecisionRecallDisplay at 0x7f08e81b9dd0>"
            ]
          },
          "metadata": {
            "tags": []
          },
          "execution_count": 229
        },
        {
          "output_type": "display_data",
          "data": {
            "image/png": "[encoded data removed]",
            "text/plain": [
              "<Figure size 432x288 with 1 Axes>"
            ]
          },
          "metadata": {
            "tags": [],
            "needs_background": "light"
          }
        }
      ]
    },
    {
      "cell_type": "markdown",
      "metadata": {
        "id": "7Kqkwznp9hca"
      },
      "source": [
        "Aqui temos algo que é conhecido como Precision Recall Curve, que plota exatamente esse balanço entre o ganho de Recall e a perda de Precisão"
      ]
    },
    {
      "cell_type": "markdown",
      "metadata": {
        "id": "JDlg-rD496na"
      },
      "source": [
        "Com isso eu posso executar um teste de thresholds para tentar encontrar um threshold ótimo, para isso eu vou usar a f1_score que é ainda outra métrica que trata da média geométrica entre o Recall e a Precisão."
      ]
    },
    {
      "cell_type": "code",
      "metadata": {
        "id": "X5g2Uj-h26i7"
      },
      "source": [
        "thresholds = np.arange(0, 1, 0.001)"
      ],
      "execution_count": 230,
      "outputs": []
    },
    {
      "cell_type": "code",
      "metadata": {
        "id": "h2ViuZ-F3slL"
      },
      "source": [
        "predicted_proba = modelo_novo.predict_proba(x_test)"
      ],
      "execution_count": 231,
      "outputs": []
    },
    {
      "cell_type": "code",
      "metadata": {
        "id": "EpKDZKPz3BtZ"
      },
      "source": [
        "def to_labels(predicted_proba, threshold):\n",
        "\treturn (predicted_proba [:,1] >= threshold).astype('int')"
      ],
      "execution_count": 232,
      "outputs": []
    },
    {
      "cell_type": "code",
      "metadata": {
        "id": "SlqurIAB3IuC"
      },
      "source": [
        "scores = [f1_score(y_test, to_labels(predicted_proba, t)) for t in thresholds]"
      ],
      "execution_count": 233,
      "outputs": []
    },
    {
      "cell_type": "code",
      "metadata": {
        "colab": {
          "base_uri": "https://localhost:8080/"
        },
        "id": "1wuFd3jI5TIY",
        "outputId": "528dc828-734c-45c4-9623-7195e595c6bb"
      },
      "source": [
        "np.max(scores)"
      ],
      "execution_count": 234,
      "outputs": [
        {
          "output_type": "execute_result",
          "data": {
            "text/plain": [
              "0.8823529411764706"
            ]
          },
          "metadata": {
            "tags": []
          },
          "execution_count": 234
        }
      ]
    },
    {
      "cell_type": "code",
      "metadata": {
        "colab": {
          "base_uri": "https://localhost:8080/"
        },
        "id": "hD_a74tu_BlA",
        "outputId": "a8c78aab-c2ed-44ac-da1e-2b61504ede6c"
      },
      "source": [
        "thresholds[np.argmax(scores)]"
      ],
      "execution_count": 235,
      "outputs": [
        {
          "output_type": "execute_result",
          "data": {
            "text/plain": [
              "0.391"
            ]
          },
          "metadata": {
            "tags": []
          },
          "execution_count": 235
        }
      ]
    },
    {
      "cell_type": "code",
      "metadata": {
        "colab": {
          "base_uri": "https://localhost:8080/",
          "height": 319
        },
        "id": "lSm4zZt48Mvd",
        "outputId": "542c9fff-8272-4387-cf65-1552ea144d0d"
      },
      "source": [
        "ax = sns.lineplot(thresholds,scores)\n",
        "plt.plot(thresholds[np.argmax(scores)],np.max(scores),'ro') \n",
        "\n",
        "plt.show()"
      ],
      "execution_count": 236,
      "outputs": [
        {
          "output_type": "stream",
          "text": [
            "/usr/local/lib/python3.7/dist-packages/seaborn/_decorators.py:43: FutureWarning: Pass the following variables as keyword args: x, y. From version 0.12, the only valid positional argument will be `data`, and passing other arguments without an explicit keyword will result in an error or misinterpretation.\n",
            "  FutureWarning\n"
          ],
          "name": "stderr"
        },
        {
          "output_type": "display_data",
          "data": {
            "image/png": "[encoded data removed]",
            "text/plain": [
              "<Figure size 432x288 with 1 Axes>"
            ]
          },
          "metadata": {
            "tags": [],
            "needs_background": "light"
          }
        }
      ]
    },
    {
      "cell_type": "markdown",
      "metadata": {
        "id": "oIrERbr1-9-B"
      },
      "source": [
        "Dessa forma eu consegui encontrar o valor ótimo, me dando o melhor balanço entre Recall e Precision."
      ]
    },
    {
      "cell_type": "markdown",
      "metadata": {
        "id": "IW-x7deh_Jsp"
      },
      "source": [
        "Porém, devo lembrar que queremos mais flexibilidade do modelo de classificar como fraude, logo, eu devo usar um valor abaixo desse ótimo que eu encontrei."
      ]
    },
    {
      "cell_type": "code",
      "metadata": {
        "id": "k10ETzX0x7oo"
      },
      "source": [
        "threshold = 0.2 #thresholds[np.argmax(scores)]\n",
        "lista = []\n",
        "\n",
        "predicted_proba = modelo_novo.predict_proba(x_test)\n",
        "for i in predicted_proba:\n",
        "  if i[1] >= threshold:\n",
        "    lista.append(1)\n",
        "  else:\n",
        "    lista.append(0)\n",
        "y_pred = np.array(lista)"
      ],
      "execution_count": 248,
      "outputs": []
    },
    {
      "cell_type": "code",
      "metadata": {
        "colab": {
          "base_uri": "https://localhost:8080/"
        },
        "id": "EWRwMSq0139W",
        "outputId": "505277d8-9468-484a-b83d-b427f405fac3"
      },
      "source": [
        "recall_score(y_test,y_pred)"
      ],
      "execution_count": 242,
      "outputs": [
        {
          "output_type": "execute_result",
          "data": {
            "text/plain": [
              "0.8780487804878049"
            ]
          },
          "metadata": {
            "tags": []
          },
          "execution_count": 242
        }
      ]
    },
    {
      "cell_type": "code",
      "metadata": {
        "colab": {
          "base_uri": "https://localhost:8080/"
        },
        "id": "deyfS0F22V7P",
        "outputId": "343ab65a-747d-4949-87ae-1e8912785741"
      },
      "source": [
        "precision_score(y_test,y_pred)"
      ],
      "execution_count": 243,
      "outputs": [
        {
          "output_type": "execute_result",
          "data": {
            "text/plain": [
              "0.84375"
            ]
          },
          "metadata": {
            "tags": []
          },
          "execution_count": 243
        }
      ]
    },
    {
      "cell_type": "code",
      "metadata": {
        "colab": {
          "base_uri": "https://localhost:8080/",
          "height": 297
        },
        "id": "qgSLQic38Hv4",
        "outputId": "bd7b2a52-c5f0-4911-dfea-6128671624b4"
      },
      "source": [
        "plot_confusion_matrix(modelo,x_test,y_test)"
      ],
      "execution_count": 250,
      "outputs": [
        {
          "output_type": "execute_result",
          "data": {
            "text/plain": [
              "<sklearn.metrics._plot.confusion_matrix.ConfusionMatrixDisplay at 0x7f08e81aec90>"
            ]
          },
          "metadata": {
            "tags": []
          },
          "execution_count": 250
        },
        {
          "output_type": "display_data",
          "data": {
            "image/png": "[encoded data removed]",
            "text/plain": [
              "<Figure size 432x288 with 2 Axes>"
            ]
          },
          "metadata": {
            "tags": [],
            "needs_background": "light"
          }
        }
      ]
    },
    {
      "cell_type": "code",
      "metadata": {
        "colab": {
          "base_uri": "https://localhost:8080/",
          "height": 281
        },
        "id": "uvq5Zizjz8P3",
        "outputId": "90ef2b97-aa44-4c8e-c5db-9fd236ed6e53"
      },
      "source": [
        "cm = confusion_matrix(y_test, y_pred)\n",
        "sns.heatmap(cm, annot=True)\n",
        "plt.title('Confusion matrix of the classifier')\n",
        "plt.show()"
      ],
      "execution_count": 249,
      "outputs": [
        {
          "output_type": "display_data",
          "data": {
            "image/png": "[encoded data removed]",
            "text/plain": [
              "<Figure size 432x288 with 2 Axes>"
            ]
          },
          "metadata": {
            "tags": [],
            "needs_background": "light"
          }
        }
      ]
    },
    {
      "cell_type": "markdown",
      "metadata": {
        "id": "3Q0oENE0m3Gw"
      },
      "source": [
        "Como podemos ver, ao compararmos os dois modelos, o segundo com o ajuste de threshold conseguiu detectar mais fraudes mesmo que acusando mais clientes \"inocentes\" mas ainda otimizado o suficiente para que o número de perfis à serem checados não seja exorbitante nem composto de poucos fraudadores, ou seja, conservamos uma boa precisão."
      ]
    }
  ]
}